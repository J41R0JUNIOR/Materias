{
 "cells": [
  {
   "cell_type": "code",
   "execution_count": 37,
   "metadata": {},
   "outputs": [
    {
     "name": "stdout",
     "output_type": "stream",
     "text": [
      "{1, 2, 33, 4, 645, 3, 423, 42, 43, 22, 23, 346}\n"
     ]
    },
    {
     "data": {
      "text/plain": [
       "[{1, 2, 3, 4, 22, 23, 33, 42, 43, 346, 423, 645}]"
      ]
     },
     "execution_count": 37,
     "metadata": {},
     "output_type": "execute_result"
    }
   ],
   "source": [
    "a = [1,1,2,23,423,43,33,4,346,4,645,3,2,22,3,42]\n",
    "list = set(a)\n",
    "\n",
    "print(list)\n",
    "\n",
    "\n",
    "# dá pra pegar e fazer isso tbm ao invés de rodar um for, no caso a gente só pega o valor da lista, põe em array e dá um sort()\n",
    "arr = [list]\n",
    "arr.sort()\n",
    "arr\n"
   ]
  },
  {
   "cell_type": "markdown",
   "metadata": {},
   "source": [
    "Lembrar que a lista não repete os números"
   ]
  },
  {
   "cell_type": "code",
   "execution_count": 2,
   "metadata": {},
   "outputs": [
    {
     "name": "stdout",
     "output_type": "stream",
     "text": [
      "{0: 0, 1: 1, 2: 4, 3: 9, 4: 16, 5: 25, 6: 36, 7: 49, 8: 64, 9: 81}\n"
     ]
    }
   ],
   "source": [
    "dic = {}\n",
    "for i in range(10):\n",
    "    dic[i] = i ** 2\n",
    "print(dic)"
   ]
  },
  {
   "cell_type": "markdown",
   "metadata": {},
   "source": [
    "Lembrar que o dicionário, quando não tem a posição que você coloca entre chaves, ele cria a posição"
   ]
  },
  {
   "cell_type": "code",
   "execution_count": 3,
   "metadata": {},
   "outputs": [
    {
     "name": "stdout",
     "output_type": "stream",
     "text": [
      "Posição 8 = 9\n",
      "Posição 7 = 8\n",
      "Posição 6 = 7\n",
      "Posição 5 = 6\n",
      "Posição 4 = 5\n",
      "Posição 3 = 4\n",
      "Posição 2 = 3\n",
      "Posição 1 = 2\n"
     ]
    }
   ],
   "source": [
    "array = [1,2,3,4,5,6,7,8,9]\n",
    "for i in range(len(array)-1,0,-1):\n",
    "  print(\"Posição {} = {}\".format(i,array[i]))"
   ]
  },
  {
   "cell_type": "markdown",
   "metadata": {},
   "source": [
    "Com o for dá pra rodar ao contrário ;)"
   ]
  },
  {
   "cell_type": "code",
   "execution_count": 24,
   "metadata": {},
   "outputs": [
    {
     "data": {
      "text/plain": [
       "[19, 20, 39, 53]"
      ]
     },
     "execution_count": 24,
     "metadata": {},
     "output_type": "execute_result"
    }
   ],
   "source": [
    "aposta_mega_sena = [6, 14, 19, 20, 39, 53]\n",
    "del aposta_mega_sena[0]\n",
    "del aposta_mega_sena[0]\n",
    "aposta_mega_sena"
   ]
  },
  {
   "cell_type": "markdown",
   "metadata": {},
   "source": [
    "Dá pra deletar uma posição de uma lista usando o del"
   ]
  },
  {
   "cell_type": "code",
   "execution_count": 34,
   "metadata": {},
   "outputs": [
    {
     "name": "stdout",
     "output_type": "stream",
     "text": [
      "janeiro é o primeiro mês do ano\n"
     ]
    }
   ],
   "source": [
    "meses = (\"janeiro\",\"fevereiro\",\"março\",\"abril\",\"maio\",\"junho\",\"julho\",\"agosto\",\"setembro\",\"outubro\",\"novembro\",\"dezembro\")\n",
    "posição = \"primeiro\",\"segundo\",\"terceiro\",\"quarto\",\"quinto\",\"sexto\",\"sétimo\",\"oitavo\",\"nono\",\"décimo\",\"décimo primeiro\",\"décimo segundo\"\n",
    "escolha = input(\"Escolha um mês:\")\n",
    "print(escolha,\"é o\",posição[meses.index(escolha)],\"mês do ano\" )"
   ]
  },
  {
   "cell_type": "markdown",
   "metadata": {},
   "source": [
    "isso é legal quando queremos associar dados entre duas listas e vetores associando-os pelo index"
   ]
  },
  {
   "cell_type": "code",
   "execution_count": 123,
   "metadata": {},
   "outputs": [
    {
     "name": "stdout",
     "output_type": "stream",
     "text": [
      "['1 2 33y\\n', '4 5 6\\n', '7 8 9\\n', '1 2 33y\\n', '4 5 6\\n', '7 8 9']\n",
      "1\n",
      "2\n",
      "3\n",
      "3\n",
      "4\n",
      "5\n",
      "6\n",
      "7\n",
      "8\n",
      "9\n",
      "1\n",
      "2\n",
      "3\n",
      "3\n",
      "4\n",
      "5\n",
      "6\n",
      "7\n",
      "8\n",
      "9\n",
      "['1 2 33y\\n', '4 5 6\\n', '7 8 9\\n', '1 2 33y\\n', '4 5 6\\n', '7 8 9']\n"
     ]
    }
   ],
   "source": [
    "#leitura de arquivos\n",
    "with open('teste1.txt', 'r') as f:\n",
    "  n = int(f.readline())\n",
    "  # print(n)\n",
    "  l = []\n",
    "  for i in range(n):\n",
    "    line = f.readline()\n",
    "    l.append(line)\n",
    "    # print(line)\n",
    "\n",
    "#escrita em arquivos\n",
    "with open('saida.txt', 'w') as f:\n",
    "  for x in l:\n",
    "    f.write(x)\n",
    "  f.close()\n",
    "\n",
    "with open('saida.txt', 'a') as f:\n",
    "  f.write(\"\\n\")\n",
    "  for x in l:\n",
    "    \n",
    "    f.write(x)\n",
    "  f.close()\n",
    "\n",
    "\n",
    "\n",
    "\n",
    "with open(\"saida.txt\", 'r') as file:\n",
    "  n = file.readlines().copy()\n",
    "  \n",
    "  for i in range(len(n)):\n",
    "    for j in range(len(n[i])):\n",
    "      if n[i][j].isalpha or n[i][j] == '\\n' or n[i][j] == ' ':\n",
    "        continue\n",
    "      else:\n",
    "        print(n[i][j])\n",
    "        print(\"foi em\")\n",
    "\n",
    "  print(n)\n",
    "\n",
    "with open(\"saida.txt\", 'r') as file:\n",
    "    lines = file.readlines().copy()\n",
    "\n",
    "    for line in lines:\n",
    "        for char in line:\n",
    "            if char.isalpha() or char == '\\n' or char == ' ':\n",
    "                continue \n",
    "              \n",
    "            print(char)\n",
    "\n",
    "    print(lines) \n"
   ]
  },
  {
   "cell_type": "markdown",
   "metadata": {},
   "source": [
    "Tá aí como ler e escrever em arqivos, no exemplo um txt padrão\n",
    "\n",
    "'a' - começa a escrever no final do arquivo\n",
    "'w' - escreve no arquivo e se tiver algo já escrito ele limpa o arquivo e escreve\n",
    "'r' - ler o arquivo"
   ]
  },
  {
   "cell_type": "code",
   "execution_count": 39,
   "metadata": {},
   "outputs": [
    {
     "name": "stdout",
     "output_type": "stream",
     "text": [
      "{3, 4}\n",
      "{1, 2}\n"
     ]
    }
   ],
   "source": [
    "def listas(lista1, lista2):\n",
    "\n",
    "    listaDeConjuntos = set(lista1), set(lista2)\n",
    "\n",
    "    ambas = set(lista1).intersection(set(lista2))\n",
    "    primeiraSomente = set(lista1).difference(set(lista2))\n",
    "    segundasomente = set(lista2).difference(set(lista1))\n",
    "    return ambas, primeiraSomente, segundasomente\n",
    "\n",
    "valor = listas([1,2,3,4], [3,4,5,6])\n",
    "\n",
    "print(\"ambas\", valor[0])\n",
    "print(\"primeira\", valor[1])\n",
    "print(\"seguda\", valor[2])"
   ]
  },
  {
   "cell_type": "markdown",
   "metadata": {},
   "source": [
    "Em conjuntos, temos essas duas funções que pegam tanto a interceção quanto a diferença entre dois conjuntos, além de conseguirmos ter mais de um retorno em uma mesma função"
   ]
  },
  {
   "cell_type": "code",
   "execution_count": 1,
   "metadata": {},
   "outputs": [
    {
     "name": "stdout",
     "output_type": "stream",
     "text": [
      "140\n",
      "440\n",
      "1400\n"
     ]
    }
   ],
   "source": [
    "def plus(*args,**kwargs):\n",
    "  total = 0\n",
    "  for i in args:\n",
    "    if \"mult\" in kwargs.keys():\n",
    "      total += kwargs[\"mult\"]*i\n",
    "    else:\n",
    "      total += i\n",
    "  return total\n",
    "\n",
    "# Calcula o somatório de um número qualquer de valores\n",
    "print(plus(20,30,40,50))\n",
    "print(plus(20,30,40,50,100,200))\n",
    "print(plus(20,30,40,50,mult=10))"
   ]
  },
  {
   "cell_type": "markdown",
   "metadata": {},
   "source": [
    "Do exemplo anterior, retenha que o parâmetro `*args` mantém uma tupla dos parâmetros não nomeados passados para a função enquanto o `**kwargs` mantém um dicionário dos parâmetros nomeados\n",
    "\n",
    "\n"
   ]
  },
  {
   "cell_type": "markdown",
   "metadata": {},
   "source": [
    "Paramentros dinamicos\n",
    "*Args são argumentos em seu estado bruto\n",
    "    exemplo:\n",
    "    strings, inteiros, floats, etc\n",
    "**Kwargs são variáveis com valores\n",
    "    exemplo:\n",
    "    a = 10, b = \"Hello World\", c = 10.4, etc"
   ]
  },
  {
   "cell_type": "code",
   "execution_count": 3,
   "metadata": {},
   "outputs": [
    {
     "data": {
      "text/plain": [
       "11"
      ]
     },
     "execution_count": 3,
     "metadata": {},
     "output_type": "execute_result"
    }
   ],
   "source": [
    "x = -11\n",
    "x.__abs__()"
   ]
  },
  {
   "cell_type": "markdown",
   "metadata": {},
   "source": [
    "pegar o valor absoluto de uma variável"
   ]
  },
  {
   "cell_type": "code",
   "execution_count": 4,
   "metadata": {},
   "outputs": [
    {
     "name": "stdout",
     "output_type": "stream",
     "text": [
      "[[0. 0.]\n",
      " [0. 0.]]\n",
      "[[1. 1.]]\n",
      "[[7 7]\n",
      " [7 7]]\n",
      "[[1. 0.]\n",
      " [0. 1.]]\n",
      "[[0.98545452 0.85129149]\n",
      " [0.42635378 0.97885427]]\n",
      "[0.  0.1 0.2 0.3 0.4 0.5 0.6 0.7 0.8 0.9 1.  1.1 1.2 1.3 1.4 1.5 1.6 1.7\n",
      " 1.8 1.9 2.  2.1 2.2 2.3 2.4 2.5 2.6 2.7 2.8 2.9 3.  3.1 3.2 3.3 3.4 3.5\n",
      " 3.6 3.7 3.8 3.9 4.  4.1 4.2 4.3 4.4 4.5 4.6 4.7 4.8 4.9 5.  5.1 5.2 5.3\n",
      " 5.4 5.5 5.6 5.7 5.8 5.9 6.  6.1 6.2 6.3 6.4 6.5 6.6 6.7 6.8 6.9 7.  7.1\n",
      " 7.2 7.3 7.4 7.5 7.6 7.7 7.8 7.9 8.  8.1 8.2 8.3 8.4 8.5 8.6 8.7 8.8 8.9\n",
      " 9.  9.1 9.2 9.3 9.4]\n",
      "[150 103 143 194 141 130 110 154 166 198 104 122 190 100 152 198 193 164\n",
      " 101 132]\n"
     ]
    }
   ],
   "source": [
    "import numpy as np\n",
    "a = np.zeros((2,2))   # Cria matriz com zeros: no parâmetro deve passar o \"shape\" desejado como uma tupla\n",
    "print(a)\n",
    "\n",
    "b = np.ones((1,2))    # Cria matriz com uns\n",
    "print(b)\n",
    "\n",
    "c = np.full((2,2), 7)  # Cria matriz constante\n",
    "print(c)\n",
    "\n",
    "d = np.eye(2)         #Cria matriz identidade 2x2\n",
    "print(d)\n",
    "\n",
    "e = np.random.random((2,2))  # Cria matriz com números aleatórios entre 0 e 1\n",
    "print(e)\n",
    "\n",
    "f = np.arange(0, 3 * np.pi, 0.1)  # cria um vetor usando range (intervalo): início, fim e passo\n",
    "print(f)\n",
    "\n",
    "#random.randint(low, high=None, size=None, dtype=int)\n",
    "g = np.random.randint(100, high=200, size=20) # cria vetor com números inteiros aleatórios dentro de um intervalo\n",
    "print(g)"
   ]
  },
  {
   "cell_type": "markdown",
   "metadata": {},
   "source": [
    "algumas formas de se fazer um array usando a biblioteca Numpy\n",
    "\n",
    "AVISO: \n",
    "- NÃO ESQUECER QUE ESSES ARRAYS SÓ CONTÉM DADOS DE MESMO TIPO!\n",
    "- ESTRUTURAS MULTIDIMENSIONAIS PRECISAM TER OS MESMOS COMPRIMENTOS "
   ]
  },
  {
   "cell_type": "code",
   "execution_count": 21,
   "metadata": {},
   "outputs": [
    {
     "data": {
      "text/plain": [
       "(array([1, 2, 3, 4]), array([1.3, 2.3, 3.3, 4.3]))"
      ]
     },
     "execution_count": 21,
     "metadata": {},
     "output_type": "execute_result"
    }
   ],
   "source": [
    "c = np.array([1,2,3,4])\n",
    "\n",
    "c,c.astype(float) + 0.3"
   ]
  },
  {
   "cell_type": "markdown",
   "metadata": {},
   "source": [
    "Dá pra fazer Castin nos Numpy Arrays"
   ]
  },
  {
   "cell_type": "code",
   "execution_count": 31,
   "metadata": {},
   "outputs": [
    {
     "name": "stdout",
     "output_type": "stream",
     "text": [
      "[[61 68  3 57 33]\n",
      " [78 57 23 79 71]\n",
      " [69 71 72 16 73]\n",
      " [ 1 21 51 69 85]\n",
      " [94 47 69 71 46]]\n"
     ]
    }
   ],
   "source": [
    "import numpy as np\n",
    "import random as ra\n",
    "matriz = np.array([ra.randint(0,100) for x in range(25)])\n",
    "matriz = matriz.copy().reshape((5, -1))\n",
    "print(matriz)"
   ]
  },
  {
   "cell_type": "markdown",
   "metadata": {},
   "source": [
    "Essa é uma maneira fácil de criar um array usando o Numpy"
   ]
  },
  {
   "cell_type": "code",
   "execution_count": null,
   "metadata": {},
   "outputs": [],
   "source": [
    "# The Formula 1 season consists of a series of races, known as Grand Prix, organized by the International Federation of Automobile (FIA). The results of each Grand Prix are combined to determine Pilots\\' World Championship. More specifically, for each race some points are distributed to pilots, depending on their classification in the race. At the end of the season, the pilot who has earned the most points is declared the World Champion.\n",
    "\n",
    "# Formula 1 organizers change constantly the competition rules, aiming to provide more excitement to fans. One rule modified for the 2010 season was the distribution of points in each Grand Prix. Since 2003, the scoring rule rewarded the top eight pilots, according to the following table:\n",
    "\n",
    "\n",
    "# That is, the winning driver received 10 points, second place received 8 points, and so on. In the 2010 season the top ten will receive points, obeying the following table:\n",
    "\n",
    "\n",
    "# The change in the scoring system led to much speculation about what would have been the effect to the World Championship in the past if the new score had been used. For example, would Lewis Hamilton have been champion in 2008, considering he and Felipe Massa were separated by just one point? To end the speculation, FIA hired you to write a program that, given the results of each race of a season determines the World Champion for different scoring systems.\n",
    "\n",
    "# Input\n",
    "\n",
    "# The input contains several test cases. The first line of a test case contains two integers G and P separated by a blank space, indicating the number of Grand Prix (1 ≤ G ≤ 100) and the number of pilots (1 ≤ P ≤ 100).. Pilots are identified by integers from 1 to P. Each of the following G lines indicates the result of a race, and contains Q integers separated by spaces. On each line, the (i)-th number indicates the order of arrival of pilot i in the race (the first number indicates the order of arrival of a pilot 1 in that race, the second number indicates the order of arrival of pilot 2 in that race and so on). The next line contains a single integer S indicating the number of scoring systems (1 ≤ S ≤ 10), After that, each of the following lines S contains a description of a scoring system. The description of a scoring system begins with an integerK (1 ≤ K ≤ P), indicating the last finishing order to receive points, followed by a blank space, followed by e K integers k0, k1, ... , kn−1 (1 ≤ ki ≤ 100) separated by spaces, indicating the number of points to be assigned (the first integer indicates the points for first place, the second integer indicates the points for second place and so on). The last test case is followed by a line containing only two zeros separated by a blank space.\n",
    "\n",
    "# Output\n",
    "\n",
    "# For each scoring system in the input your program must print one line, containing the identifier of the World Champion. If more than one pilot are World Champions (ie, if there is a tie), the line must contain all World Champions, in increasing order of identifier, separated by a space.\n",
    "\n",
    "\n",
    "#To understand better you can start by main function\n",
    "\n",
    "def calcular(r, k, q, p):\n",
    "    result = [] #An array that we'll put the results of the races\n",
    "    for i in range(p): #Filling the array with zero's, we'll need this after to be the same quantity fo pilots\n",
    "        result.append(0) #adding the zero\n",
    "\n",
    "    winners = [] #An array that we'll store all the winners of the RULE,(yes, the rule, for each one we have to calculate the winner of this rule)\n",
    "\n",
    "    for i in range(len(q)):\n",
    "        #The logic i used was to get the pilot position at each race and verify if it's less or equal to the k variable(quantity of pilots that will receive the points),                                                                                      \n",
    "        #FOR EXAMPLE q = [3, 1, 2], the pilot[0] got at the third place, pilot[1] got at the first place...                                                                                             k = 2 and r = [5, 2], the first pilot one get five points and the second one get two                                                                                                  So, the pilot[1] get 5, and pilot[2] get 2 points, then we have to calculate the points of each pilot in each races and sum with is sucessor                                                            \n",
    "        for j in range(len(q[i])):\n",
    "            if q[i][j] <= k: \n",
    "                result[j] += r[q[i][j] - 1] #calculating the races, for each race and for each pilot it sum its points\n",
    "                #FOR EXAMPLE: if the pilot one got at third at the first race, and first at the second, it will sum it's points\n",
    "  \n",
    "    maxPoints = max(result) #We just want to get the winners, so, it get the maximum point get\n",
    "   \n",
    "    for i in range(len(result)): #Now we get the position of the winner pilot and then we add to the array winners\n",
    "        if result[i] == maxPoints:\n",
    "            winners.append(i + 1) #this +1 is becouse the variable i goes through 0... and when we want to know the player we don't have player 0, we have the player[0] that is the player position at the array, the players comes from 1 to 100.\n",
    "\n",
    "    return winners\n",
    "            \n",
    "\n",
    "def main():\n",
    "    tryAgain = True #This is for continuing in the loop trying new cases\n",
    "    while tryAgain:\n",
    "        g, p = map(int, input().split()) #g variable is the quantity of races and the p variable is the quantity of pilots\n",
    "\n",
    "        if g == 0 and p == 0: #end the program\n",
    "            tryAgain = False\n",
    "            break\n",
    "\n",
    "\n",
    "        # q = []\n",
    "\n",
    "        # for i in range(g):\n",
    "        #     q.append(input().split())\n",
    "        #     q[i] = [int(n) for n in q[i]]\n",
    "\n",
    "\n",
    "\n",
    "        q = [list(map(int, input().split())) for _ in range(g)] #the position of each pilots going through 1 < g < 100. THIS IS NOT THE QUEUE FINISHING ORDER OF PILOTS, IT IS IT'S POSITIONS, so the first value is the pilot[0], the second is the pilot[1] ...\n",
    "\n",
    "        s = int(input()) #quantity of rules that we'll calculate\n",
    "\n",
    "        for _ in range(s): #for each rule, we have to calculate all races stored at the variable q\n",
    "            k, *rules = map(int, input().split()) #the variable k, is the quantity of pilots that will receive points, and the rule variable is all the rules that the program will calculate\n",
    "\n",
    "            result = calcular(rules, k, q, p) #here we get an array of results\n",
    "\n",
    "            print(*result) #printing the result of each rule\n",
    "\n",
    "main()"
   ]
  }
 ],
 "metadata": {
  "kernelspec": {
   "display_name": "Python 3",
   "language": "python",
   "name": "python3"
  },
  "language_info": {
   "codemirror_mode": {
    "name": "ipython",
    "version": 3
   },
   "file_extension": ".py",
   "mimetype": "text/x-python",
   "name": "python",
   "nbconvert_exporter": "python",
   "pygments_lexer": "ipython3",
   "version": "3.11.8"
  }
 },
 "nbformat": 4,
 "nbformat_minor": 2
}
