{
 "cells": [
  {
   "cell_type": "code",
   "execution_count": 37,
   "metadata": {},
   "outputs": [
    {
     "name": "stdout",
     "output_type": "stream",
     "text": [
      "{1, 2, 33, 4, 645, 3, 423, 42, 43, 22, 23, 346}\n"
     ]
    },
    {
     "data": {
      "text/plain": [
       "[{1, 2, 3, 4, 22, 23, 33, 42, 43, 346, 423, 645}]"
      ]
     },
     "execution_count": 37,
     "metadata": {},
     "output_type": "execute_result"
    }
   ],
   "source": [
    "a = [1,1,2,23,423,43,33,4,346,4,645,3,2,22,3,42]\n",
    "list = set(a)\n",
    "\n",
    "print(list)\n",
    "\n",
    "\n",
    "# dá pra pegar e fazer isso tbn ao invés de rodar um for, no caso a gente só pega o valor da lista, põe em array e dá um sort()\n",
    "arr = [list]\n",
    "arr.sort()\n",
    "arr\n"
   ]
  },
  {
   "cell_type": "markdown",
   "metadata": {},
   "source": [
    "Lembrar que a lista não repete os números"
   ]
  },
  {
   "cell_type": "code",
   "execution_count": 2,
   "metadata": {},
   "outputs": [
    {
     "name": "stdout",
     "output_type": "stream",
     "text": [
      "{0: 0, 1: 1, 2: 4, 3: 9, 4: 16, 5: 25, 6: 36, 7: 49, 8: 64, 9: 81}\n"
     ]
    }
   ],
   "source": [
    "dic = {}\n",
    "for i in range(10):\n",
    "    dic[i] = i ** 2\n",
    "print(dic)"
   ]
  },
  {
   "cell_type": "markdown",
   "metadata": {},
   "source": [
    "Lembrar que o dicionário, quando não tem a posição que você coloca entre chaves, ele cria a posição"
   ]
  },
  {
   "cell_type": "code",
   "execution_count": 3,
   "metadata": {},
   "outputs": [
    {
     "name": "stdout",
     "output_type": "stream",
     "text": [
      "Posição 8 = 9\n",
      "Posição 7 = 8\n",
      "Posição 6 = 7\n",
      "Posição 5 = 6\n",
      "Posição 4 = 5\n",
      "Posição 3 = 4\n",
      "Posição 2 = 3\n",
      "Posição 1 = 2\n"
     ]
    }
   ],
   "source": [
    "array = [1,2,3,4,5,6,7,8,9]\n",
    "for i in range(len(array)-1,0,-1):\n",
    "  print(\"Posição {} = {}\".format(i,array[i]))"
   ]
  },
  {
   "cell_type": "markdown",
   "metadata": {},
   "source": [
    "Com o for dá pra ir contando ao contrário"
   ]
  },
  {
   "cell_type": "code",
   "execution_count": 24,
   "metadata": {},
   "outputs": [
    {
     "data": {
      "text/plain": [
       "[19, 20, 39, 53]"
      ]
     },
     "execution_count": 24,
     "metadata": {},
     "output_type": "execute_result"
    }
   ],
   "source": [
    "aposta_mega_sena = [6, 14, 19, 20, 39, 53]\n",
    "del aposta_mega_sena[0]\n",
    "del aposta_mega_sena[0]\n",
    "aposta_mega_sena"
   ]
  },
  {
   "cell_type": "markdown",
   "metadata": {},
   "source": [
    "Dá pra deletar uma posição de uma lista usando o del"
   ]
  },
  {
   "cell_type": "code",
   "execution_count": 34,
   "metadata": {},
   "outputs": [
    {
     "name": "stdout",
     "output_type": "stream",
     "text": [
      "janeiro é o primeiro mês do ano\n"
     ]
    }
   ],
   "source": [
    "meses = (\"janeiro\",\"fevereiro\",\"março\",\"abril\",\"maio\",\"junho\",\"julho\",\"agosto\",\"setembro\",\"outubro\",\"novembro\",\"dezembro\")\n",
    "posição = \"primeiro\",\"segundo\",\"terceiro\",\"quarto\",\"quinto\",\"sexto\",\"sétimo\",\"oitavo\",\"nono\",\"décimo\",\"décimo primeiro\",\"décimo segundo\"\n",
    "escolha = input(\"Escolha um mês:\")\n",
    "print(escolha,\"é o\",posição[meses.index(escolha)],\"mês do ano\" )"
   ]
  },
  {
   "cell_type": "markdown",
   "metadata": {},
   "source": [
    "isso é legal quando queremos associar dados entre duas listas e vetores associando-os pelo index"
   ]
  },
  {
   "cell_type": "code",
   "execution_count": null,
   "metadata": {},
   "outputs": [],
   "source": []
  }
 ],
 "metadata": {
  "kernelspec": {
   "display_name": "Python 3",
   "language": "python",
   "name": "python3"
  },
  "language_info": {
   "codemirror_mode": {
    "name": "ipython",
    "version": 3
   },
   "file_extension": ".py",
   "mimetype": "text/x-python",
   "name": "python",
   "nbconvert_exporter": "python",
   "pygments_lexer": "ipython3",
   "version": "3.11.8"
  }
 },
 "nbformat": 4,
 "nbformat_minor": 2
}
