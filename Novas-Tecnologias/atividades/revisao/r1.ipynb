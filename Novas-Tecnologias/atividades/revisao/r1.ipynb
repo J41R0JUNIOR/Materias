{
 "cells": [
  {
   "cell_type": "code",
   "execution_count": 37,
   "metadata": {},
   "outputs": [
    {
     "name": "stdout",
     "output_type": "stream",
     "text": [
      "{1, 2, 33, 4, 645, 3, 423, 42, 43, 22, 23, 346}\n"
     ]
    },
    {
     "data": {
      "text/plain": [
       "[{1, 2, 3, 4, 22, 23, 33, 42, 43, 346, 423, 645}]"
      ]
     },
     "execution_count": 37,
     "metadata": {},
     "output_type": "execute_result"
    }
   ],
   "source": [
    "a = [1,1,2,23,423,43,33,4,346,4,645,3,2,22,3,42]\n",
    "list = set(a)\n",
    "\n",
    "print(list)\n",
    "\n",
    "\n",
    "# dá pra pegar e fazer isso tbn ao invés de rodar um for, no caso a gente só pega o valor da lista, põe em array e dá um sort()\n",
    "arr = [list]\n",
    "arr.sort()\n",
    "arr\n"
   ]
  },
  {
   "cell_type": "markdown",
   "metadata": {},
   "source": [
    "Lembrar que a lista não repete os números"
   ]
  },
  {
   "cell_type": "code",
   "execution_count": 2,
   "metadata": {},
   "outputs": [
    {
     "name": "stdout",
     "output_type": "stream",
     "text": [
      "{0: 0, 1: 1, 2: 4, 3: 9, 4: 16, 5: 25, 6: 36, 7: 49, 8: 64, 9: 81}\n"
     ]
    }
   ],
   "source": [
    "dic = {}\n",
    "for i in range(10):\n",
    "    dic[i] = i ** 2\n",
    "print(dic)"
   ]
  },
  {
   "cell_type": "markdown",
   "metadata": {},
   "source": [
    "Lembrar que o dicionário, quando não tem a posição que você coloca entre chaves, ele cria a posição"
   ]
  },
  {
   "cell_type": "code",
   "execution_count": 3,
   "metadata": {},
   "outputs": [
    {
     "name": "stdout",
     "output_type": "stream",
     "text": [
      "Posição 8 = 9\n",
      "Posição 7 = 8\n",
      "Posição 6 = 7\n",
      "Posição 5 = 6\n",
      "Posição 4 = 5\n",
      "Posição 3 = 4\n",
      "Posição 2 = 3\n",
      "Posição 1 = 2\n"
     ]
    }
   ],
   "source": [
    "array = [1,2,3,4,5,6,7,8,9]\n",
    "for i in range(len(array)-1,0,-1):\n",
    "  print(\"Posição {} = {}\".format(i,array[i]))"
   ]
  },
  {
   "cell_type": "markdown",
   "metadata": {},
   "source": [
    "Com o for dá pra ir contando ao contrário"
   ]
  },
  {
   "cell_type": "code",
   "execution_count": 24,
   "metadata": {},
   "outputs": [
    {
     "data": {
      "text/plain": [
       "[19, 20, 39, 53]"
      ]
     },
     "execution_count": 24,
     "metadata": {},
     "output_type": "execute_result"
    }
   ],
   "source": [
    "aposta_mega_sena = [6, 14, 19, 20, 39, 53]\n",
    "del aposta_mega_sena[0]\n",
    "del aposta_mega_sena[0]\n",
    "aposta_mega_sena"
   ]
  },
  {
   "cell_type": "markdown",
   "metadata": {},
   "source": [
    "Dá pra deletar uma posição de uma lista usando o del"
   ]
  },
  {
   "cell_type": "code",
   "execution_count": 34,
   "metadata": {},
   "outputs": [
    {
     "name": "stdout",
     "output_type": "stream",
     "text": [
      "janeiro é o primeiro mês do ano\n"
     ]
    }
   ],
   "source": [
    "meses = (\"janeiro\",\"fevereiro\",\"março\",\"abril\",\"maio\",\"junho\",\"julho\",\"agosto\",\"setembro\",\"outubro\",\"novembro\",\"dezembro\")\n",
    "posição = \"primeiro\",\"segundo\",\"terceiro\",\"quarto\",\"quinto\",\"sexto\",\"sétimo\",\"oitavo\",\"nono\",\"décimo\",\"décimo primeiro\",\"décimo segundo\"\n",
    "escolha = input(\"Escolha um mês:\")\n",
    "print(escolha,\"é o\",posição[meses.index(escolha)],\"mês do ano\" )"
   ]
  },
  {
   "cell_type": "markdown",
   "metadata": {},
   "source": [
    "isso é legal quando queremos associar dados entre duas listas e vetores associando-os pelo index"
   ]
  },
  {
   "cell_type": "code",
   "execution_count": null,
   "metadata": {},
   "outputs": [],
   "source": [
    "#leitura de arquivos\n",
    "with open('teste1.txt', 'r') as f:\n",
    "  n = int(f.readline())\n",
    "  print(n)\n",
    "  l = []\n",
    "  for i in range(n):\n",
    "    line = f.readline()\n",
    "    l.append(line)\n",
    "    print(line)\n",
    "\n",
    "#escrita em arquivos\n",
    "with open('saida.txt', 'w') as f:\n",
    "  for x in l:\n",
    "    f.write(x)\n",
    "  f.close()"
   ]
  },
  {
   "cell_type": "markdown",
   "metadata": {},
   "source": [
    "Tá aí como ler e escrever em arqivos, no exemplo um txt padrão"
   ]
  },
  {
   "cell_type": "code",
   "execution_count": 39,
   "metadata": {},
   "outputs": [
    {
     "name": "stdout",
     "output_type": "stream",
     "text": [
      "{3, 4}\n",
      "{1, 2}\n"
     ]
    }
   ],
   "source": [
    "def listas(lista1, lista2):\n",
    "\n",
    "    listaDeConjuntos = set(lista1), set(lista2)\n",
    "\n",
    "    ambas = set(lista1).intersection(set(lista2))\n",
    "    primeiraSomente = set(lista1).difference(set(lista2))\n",
    "    segundasomente = set(lista2).difference(set(lista1))\n",
    "    return ambas, primeiraSomente, segundasomente\n",
    "\n",
    "valor = listas([1,2,3,4], [3,4,5,6])\n",
    "\n",
    "print(\"ambas\", valor[0])\n",
    "print(\"primeira\", valor[1])\n",
    "print(\"seguda\", valor[2])"
   ]
  },
  {
   "cell_type": "markdown",
   "metadata": {},
   "source": [
    "Em conjuntos, temos essas duas funções que pegam tanto a interceção quanto a diferença entre dois conjuntos, além de conseguirmos ter mais de um retorno em uma mesma função"
   ]
  },
  {
   "cell_type": "code",
   "execution_count": 1,
   "metadata": {},
   "outputs": [
    {
     "name": "stdout",
     "output_type": "stream",
     "text": [
      "140\n",
      "440\n",
      "1400\n"
     ]
    }
   ],
   "source": [
    "def plus(*args,**kwargs):\n",
    "  total = 0\n",
    "  for i in args:\n",
    "    if \"mult\" in kwargs.keys():\n",
    "      total += kwargs[\"mult\"]*i\n",
    "    else:\n",
    "      total += i\n",
    "  return total\n",
    "\n",
    "# Calcula o somatório de um número qualquer de valores\n",
    "print(plus(20,30,40,50))\n",
    "print(plus(20,30,40,50,100,200))\n",
    "print(plus(20,30,40,50,mult=10))"
   ]
  },
  {
   "cell_type": "markdown",
   "metadata": {},
   "source": [
    "Do exemplo anterior, retenha que o parâmetro `*args` mantém uma tupla dos parâmetros não nomeados passados para a função enquanto o `**kwargs` mantém um dicionário dos parâmetros nomeados\n",
    "\n",
    "\n"
   ]
  },
  {
   "cell_type": "markdown",
   "metadata": {},
   "source": [
    "Paramentros dinamicos\n",
    "*Args são argumentos em seu estado bruto\n",
    "    exemplo:\n",
    "    strings, inteiros, floats, etc\n",
    "**Kwargs são variáveis com valores\n",
    "    exemplo:\n",
    "    a = 10, b = \"Hello World\", c = 10.4, etc"
   ]
  },
  {
   "cell_type": "code",
   "execution_count": 3,
   "metadata": {},
   "outputs": [
    {
     "data": {
      "text/plain": [
       "11"
      ]
     },
     "execution_count": 3,
     "metadata": {},
     "output_type": "execute_result"
    }
   ],
   "source": [
    "x = -11\n",
    "x.__abs__()"
   ]
  },
  {
   "cell_type": "markdown",
   "metadata": {},
   "source": [
    "pegar o valor absoluto de uma variável"
   ]
  },
  {
   "cell_type": "code",
   "execution_count": 4,
   "metadata": {},
   "outputs": [
    {
     "name": "stdout",
     "output_type": "stream",
     "text": [
      "[[0. 0.]\n",
      " [0. 0.]]\n",
      "[[1. 1.]]\n",
      "[[7 7]\n",
      " [7 7]]\n",
      "[[1. 0.]\n",
      " [0. 1.]]\n",
      "[[0.98545452 0.85129149]\n",
      " [0.42635378 0.97885427]]\n",
      "[0.  0.1 0.2 0.3 0.4 0.5 0.6 0.7 0.8 0.9 1.  1.1 1.2 1.3 1.4 1.5 1.6 1.7\n",
      " 1.8 1.9 2.  2.1 2.2 2.3 2.4 2.5 2.6 2.7 2.8 2.9 3.  3.1 3.2 3.3 3.4 3.5\n",
      " 3.6 3.7 3.8 3.9 4.  4.1 4.2 4.3 4.4 4.5 4.6 4.7 4.8 4.9 5.  5.1 5.2 5.3\n",
      " 5.4 5.5 5.6 5.7 5.8 5.9 6.  6.1 6.2 6.3 6.4 6.5 6.6 6.7 6.8 6.9 7.  7.1\n",
      " 7.2 7.3 7.4 7.5 7.6 7.7 7.8 7.9 8.  8.1 8.2 8.3 8.4 8.5 8.6 8.7 8.8 8.9\n",
      " 9.  9.1 9.2 9.3 9.4]\n",
      "[150 103 143 194 141 130 110 154 166 198 104 122 190 100 152 198 193 164\n",
      " 101 132]\n"
     ]
    }
   ],
   "source": [
    "import numpy as np\n",
    "a = np.zeros((2,2))   # Cria matriz com zeros: no parâmetro deve passar o \"shape\" desejado como uma tupla\n",
    "print(a)\n",
    "\n",
    "b = np.ones((1,2))    # Cria matriz com uns\n",
    "print(b)\n",
    "\n",
    "c = np.full((2,2), 7)  # Cria matriz constante\n",
    "print(c)\n",
    "\n",
    "d = np.eye(2)         #Cria matriz identidade 2x2\n",
    "print(d)\n",
    "\n",
    "e = np.random.random((2,2))  # Cria matriz com números aleatórios entre 0 e 1\n",
    "print(e)\n",
    "\n",
    "f = np.arange(0, 3 * np.pi, 0.1)  # cria um vetor usando range (intervalo): início, fim e passo\n",
    "print(f)\n",
    "\n",
    "#random.randint(low, high=None, size=None, dtype=int)\n",
    "g = np.random.randint(100, high=200, size=20) # cria vetor com números inteiros aleatórios dentro de um intervalo\n",
    "print(g)"
   ]
  },
  {
   "cell_type": "markdown",
   "metadata": {},
   "source": [
    "algumas formas de se fazer um array usando a biblioteca Numpy\n",
    "\n",
    "AVISO: \n",
    "- NÃO ESQUECER QUE ESSES ARRAYS SÓ CONTÉM DADOS DE MESMO TIPO!\n",
    "- ESTRUTURAS MULTIDIMENSIONAIS PRECISAM TER OS MESMOS COMPRIMENTOS "
   ]
  },
  {
   "cell_type": "code",
   "execution_count": 21,
   "metadata": {},
   "outputs": [
    {
     "data": {
      "text/plain": [
       "(array([1, 2, 3, 4]), array([1.3, 2.3, 3.3, 4.3]))"
      ]
     },
     "execution_count": 21,
     "metadata": {},
     "output_type": "execute_result"
    }
   ],
   "source": [
    "c = np.array([1,2,3,4])\n",
    "\n",
    "c,c.astype(float) + 0.3"
   ]
  },
  {
   "cell_type": "markdown",
   "metadata": {},
   "source": [
    "Dá pra fazer Castin nos Numpy Arrays"
   ]
  },
  {
   "cell_type": "code",
   "execution_count": 37,
   "metadata": {},
   "outputs": [
    {
     "name": "stdout",
     "output_type": "stream",
     "text": [
      "[[91 20 87 86 19]\n",
      " [18 16 24 72 75]\n",
      " [42 38 14 95 84]\n",
      " [14 17 15 33  2]\n",
      " [84 95  5 41 25]]\n"
     ]
    }
   ],
   "source": [
    "import numpy as np\n",
    "import random as ra\n",
    "matriz = np.array([ra.randint(0,100) for x in range(25)])\n",
    "matriz = matriz.copy().reshape((5, -1))\n",
    "print(matriz)"
   ]
  },
  {
   "cell_type": "markdown",
   "metadata": {},
   "source": [
    "Essa é uma maneira fácil de criar um array usando o Numpy"
   ]
  }
 ],
 "metadata": {
  "kernelspec": {
   "display_name": "Python 3",
   "language": "python",
   "name": "python3"
  },
  "language_info": {
   "codemirror_mode": {
    "name": "ipython",
    "version": 3
   },
   "file_extension": ".py",
   "mimetype": "text/x-python",
   "name": "python",
   "nbconvert_exporter": "python",
   "pygments_lexer": "ipython3",
   "version": "3.11.8"
  }
 },
 "nbformat": 4,
 "nbformat_minor": 2
}
