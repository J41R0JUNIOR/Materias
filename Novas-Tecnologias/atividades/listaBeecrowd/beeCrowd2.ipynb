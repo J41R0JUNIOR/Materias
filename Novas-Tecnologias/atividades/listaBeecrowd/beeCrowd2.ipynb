{
 "cells": [
  {
   "cell_type": "code",
   "execution_count": null,
   "metadata": {},
   "outputs": [],
   "source": [
    "import math\n",
    "\n",
    "x1, y1 = float(input(\"Type x1 : \")), float(input(\"Type y1 : \"))\n",
    "x2, y2 = float(input(\"Type x2 : \")), float(input(\"Type y2 : \"))\n",
    "\n",
    "distance = math.sqrt(pow(x2 - x1, 2) + pow(y2 - y1, 2))\n",
    "# distance = pow(x2 - x1, 2) + pow(y2 - y1, 2)\n",
    "print(\"saida = {:.4f}\" .format(distance))"
   ]
  },
  {
   "cell_type": "code",
   "execution_count": null,
   "metadata": {},
   "outputs": [],
   "source": [
    "import math\n",
    "\n",
    "# Read input values\n",
    "x1, y1 = map(float, input().split())\n",
    "x2, y2 = map(float, input().split())\n",
    "\n",
    "# Calculate distance\n",
    "distance = math.sqrt(pow(x2 - x1, 2) + pow(y2 - y1, 2))\n",
    "\n",
    "# Print the result with four decimal places\n",
    "print(\"{:.4f}\".format(distance))\n"
   ]
  },
  {
   "cell_type": "code",
   "execution_count": null,
   "metadata": {},
   "outputs": [],
   "source": [
    "value = float(input())\n",
    "vet = [100,50,20,10,5,2,1]\n",
    "\n",
    "print(value)\n",
    "\n",
    "for i in range(len(vet)):\n",
    "    if value / vet[i] >= 1:\n",
    "        print(\"{:.0f} nota(s) de R${:.0f},00\".format(value // vet[i], vet[i]))\n",
    "        value = value % vet[i]"
   ]
  },
  {
   "cell_type": "code",
   "execution_count": null,
   "metadata": {},
   "outputs": [],
   "source": [
    "value = int(input())\n",
    "banknotes = [100, 50, 20, 10, 5, 2, 1]\n",
    "print(value)\n",
    "\n",
    "for note in banknotes:\n",
    "    count = value // note\n",
    "    value %= note\n",
    "    print(f\"{count} nota(s) de R$ {note},00\")\n"
   ]
  },
  {
   "cell_type": "code",
   "execution_count": null,
   "metadata": {},
   "outputs": [],
   "source": [
    "number = float(input())\n",
    "\n",
    "if 0 <= number <= 25:\n",
    "    print(\"Intervalo [0,25]\")\n",
    "elif 25 < number <= 50:\n",
    "    print(\"Intervalo (25,50]\")\n",
    "elif 50 < number <= 75:\n",
    "    print(\"Intervalo (50,75]\")\n",
    "elif 75 < number <= 100:\n",
    "    print(\"Intervalo (75,100]\")\n",
    "else:\n",
    "    print(\"Fora de intervalo\")\n"
   ]
  },
  {
   "cell_type": "code",
   "execution_count": null,
   "metadata": {},
   "outputs": [],
   "source": [
    "numbers = list(map(int, input().split()))\n",
    "sorted_numbers = sorted(numbers)\n",
    "\n",
    "for num in sorted_numbers:\n",
    "    print(num)\n",
    "\n",
    "print()\n",
    "\n",
    "for num in numbers:\n",
    "    print(num)\n"
   ]
  },
  {
   "cell_type": "code",
   "execution_count": null,
   "metadata": {},
   "outputs": [],
   "source": [
    "max_value = -float('inf')  # Initialize max_value to negative infinity\n",
    "max_position = 0\n",
    "\n",
    "for i in range(1, 101):\n",
    "    number = int(input())\n",
    "    if number > max_value:\n",
    "        max_value = number\n",
    "        max_position = i\n",
    "\n",
    "print(max_value)\n",
    "print(max_position)\n"
   ]
  }
 ],
 "metadata": {
  "kernelspec": {
   "display_name": "Python 3",
   "language": "python",
   "name": "python3"
  },
  "language_info": {
   "codemirror_mode": {
    "name": "ipython",
    "version": 3
   },
   "file_extension": ".py",
   "mimetype": "text/x-python",
   "name": "python",
   "nbconvert_exporter": "python",
   "pygments_lexer": "ipython3",
   "version": "3.11.8"
  }
 },
 "nbformat": 4,
 "nbformat_minor": 2
}
