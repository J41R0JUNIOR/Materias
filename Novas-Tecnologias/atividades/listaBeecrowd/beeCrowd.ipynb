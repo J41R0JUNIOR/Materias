{
 "cells": [
  {
   "cell_type": "markdown",
   "metadata": {},
   "source": [
    "1000 - Print \"Hello World\""
   ]
  },
  {
   "cell_type": "code",
   "execution_count": null,
   "metadata": {},
   "outputs": [],
   "source": [
    "print(\"Hello World\")"
   ]
  },
  {
   "cell_type": "markdown",
   "metadata": {},
   "source": [
    "1001 - Read 2 variables, named A and B and make the sum of these two variables, assigning its result to the variable X. Print X as shown below. Print endline after the result otherwise you will get “Presentation Error”."
   ]
  },
  {
   "cell_type": "code",
   "execution_count": null,
   "metadata": {},
   "outputs": [],
   "source": [
    "a = int(input(\"Digite um número: \"))\n",
    "b = int(input(\"Digite outro: \"))\n",
    "x = a + b\n",
    "\n",
    "print(\"{} + {} = {}\" .format(a, b, x))\n"
   ]
  },
  {
   "cell_type": "markdown",
   "metadata": {},
   "source": [
    "1002 - The formula to calculate the area of a circumference is defined as A = π . R2. Considering to this problem that π = 3.14159:"
   ]
  },
  {
   "cell_type": "code",
   "execution_count": null,
   "metadata": {},
   "outputs": [],
   "source": [
    "r = float(input(str(\"Digite o raio do círculo: \")))\n",
    "\n",
    "a = 3.141592653589793238462643383279502884197169399375105820974944 * pow(r,2)\n",
    "print(\"{:.2f} é a área do círculo\" .format(a))"
   ]
  },
  {
   "cell_type": "markdown",
   "metadata": {},
   "source": [
    "1003 - Read two integer values, in this case, the variables A and B. After this, calculate the sum between them and assign it to the variable SOMA. Write the value of this variable."
   ]
  },
  {
   "cell_type": "code",
   "execution_count": null,
   "metadata": {},
   "outputs": [],
   "source": [
    "a = int(input(\"Digite um valor: \"))\n",
    "b = int(input(\"Digite um outro valor: \"))\n",
    "soma = a + b\n",
    "print(\"soma = {}\" .format(soma))"
   ]
  },
  {
   "cell_type": "markdown",
   "metadata": {},
   "source": [
    "1004 - Read two integer values. After this, calculate the product between them and store the result in a variable named PROD. Print the result like the example below. Do not forget to print the end of line after the result, otherwise you will receive “Presentation Error”."
   ]
  },
  {
   "cell_type": "code",
   "execution_count": null,
   "metadata": {},
   "outputs": [],
   "source": [
    "a = int(input(\"Digite um valor: \"))\n",
    "b = int(input(\"Digite um outro valor: \"))\n",
    "prod = a * b\n",
    "print(\"prod = \", prod)"
   ]
  },
  {
   "cell_type": "markdown",
   "metadata": {},
   "source": [
    "1005 - Read two floating points' values of double precision A and B, corresponding to two student's grades. After this, calculate the student's average, considering that grade A has weight 3.5 and B has weight 7.5. Each grade can be from zero to ten, always with one digit after the decimal point. "
   ]
  },
  {
   "cell_type": "code",
   "execution_count": null,
   "metadata": {},
   "outputs": [],
   "source": [
    "a = float(input(\"Digite um valor: \"))\n",
    "while a < 0 or a > 10{\n",
    "    a = float(input(\"Digite um valor: \"))\n",
    "}\n",
    "b = float(input(\"Digite um outro valor: \"))\n",
    "while b < 0 or b > 10{\n",
    "    b = float(input(\"Digite um valor: \"))\n",
    "}\n",
    "p1, p2 = 3.5, 7.5\n",
    "\n",
    "\n",
    "average = (p1 * a + p2 * b) / (p1 + p2)\n",
    "print(\"average = \", average)"
   ]
  },
  {
   "cell_type": "markdown",
   "metadata": {},
   "source": [
    "1006 - Read three values (variables A, B and C), which are the three student's grades. Then, calculate the average, considering that grade A has weight 2, grade B has weight 3 and the grade C has weight 5."
   ]
  },
  {
   "cell_type": "code",
   "execution_count": null,
   "metadata": {},
   "outputs": [],
   "source": [
    "a = float(input(\"Digite um valor: \"))\n",
    "b = float(input(\"Digite um outro valor: \"))\n",
    "c = float(input(\"Digite só mais um valor: \"))\n",
    "\n",
    "p1, p2, p3 = 2, 3, 5\n",
    "average = (a * p1 + b * p2 + c * p3) / (p1 + p2 + p3)\n",
    "print(\"average = \", average)"
   ]
  },
  {
   "cell_type": "markdown",
   "metadata": {},
   "source": [
    "1007 - Read four integer values named A, B, C and D. Calculate and print the difference of product A and B by the product of C and D (A * B - C * D)."
   ]
  },
  {
   "cell_type": "code",
   "execution_count": null,
   "metadata": {},
   "outputs": [],
   "source": [
    "a = int(input(\"Digite um valor: \"))\n",
    "b = int(input(\"Digite um outro valor: \"))\n",
    "c = int(input(\"Digite o penultimo valor: \"))\n",
    "d = int(input(\"Digite só mais um valor: \"))\n",
    "\n",
    "difOfProduct = a * b - c * d\n",
    "print(\"product of difference =\", difOfProduct)"
   ]
  },
  {
   "cell_type": "markdown",
   "metadata": {},
   "source": [
    "1008 - Write a program that reads an employee's number, his/her worked hours number in a month and the amount he received per hour. Print the employee's number and salary that he/she will receive at end of the month, with two decimal places."
   ]
  },
  {
   "cell_type": "code",
   "execution_count": null,
   "metadata": {},
   "outputs": [],
   "source": [
    "number = int(input(\"Type your number: \"))\n",
    "workHours = float(input(\"Your worked hours in this month: \"))\n",
    "amountPerHour = float(input(\"Amount received per hours: \"))\n",
    "\n",
    "salary = workHours * amountPerHour\n",
    "\n",
    "print(\"Employeer number {}, you'll receive U${} at the end of this month.\" .format(number, salary))"
   ]
  },
  {
   "cell_type": "markdown",
   "metadata": {},
   "source": [
    "1009 - Make a program that reads a seller's name, his/her fixed salary and the sale's total made by himself/herself in the month (in money). Considering that this seller receives 15% over all products sold, write the final salary (total) of this seller at the end of the month , with two decimal places."
   ]
  },
  {
   "cell_type": "code",
   "execution_count": null,
   "metadata": {},
   "outputs": [],
   "source": [
    "name = input(\"Type your name: \")\n",
    "fixedSalary = float(input(\"Type your fixed salary: \"))\n",
    "salesTotal = float(input(\"Type how much you sold this month: \"))\n",
    "\n",
    "newSalary = fixedSalary + (salesTotal * 0.15)\n",
    "\n",
    "print(\"{}, your salary with 15% of all of your sails, you'll receive U${:.2f}\" .format(name, newSalary))\n"
   ]
  }
 ],
 "metadata": {
  "kernelspec": {
   "display_name": "Python 3",
   "language": "python",
   "name": "python3"
  },
  "language_info": {
   "codemirror_mode": {
    "name": "ipython",
    "version": 3
   },
   "file_extension": ".py",
   "mimetype": "text/x-python",
   "name": "python",
   "nbconvert_exporter": "python",
   "pygments_lexer": "ipython3",
   "version": "3.11.8"
  }
 },
 "nbformat": 4,
 "nbformat_minor": 2
}
