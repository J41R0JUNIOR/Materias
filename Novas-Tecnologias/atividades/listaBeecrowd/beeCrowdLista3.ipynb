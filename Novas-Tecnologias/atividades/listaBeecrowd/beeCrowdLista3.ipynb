{
 "cells": [
  {
   "cell_type": "code",
   "execution_count": 20,
   "metadata": {},
   "outputs": [
    {
     "name": "stdout",
     "output_type": "stream",
     "text": [
      "Impossivel calcular\n"
     ]
    }
   ],
   "source": [
    "import math\n",
    "a, b, c = map(float, input().split())\n",
    "\n",
    "delta = pow(b,2) - 4 * a * c\n",
    "\n",
    "if delta <= 0 or a == 0:\n",
    "    print(\"Impossivel calcular\")\n",
    "else:\n",
    "    r1 = (-b + math.sqrt(delta)) / (2 * a)\n",
    "    r2 = (-b - math.sqrt(delta)) / (2 * a)\n",
    "    print(\"R1 = {:.5f}\" .format(r1))\n",
    "    print(\"R2 = {:.5f}\" .format(r2))"
   ]
  },
  {
   "cell_type": "code",
   "execution_count": 226,
   "metadata": {},
   "outputs": [
    {
     "name": "stdout",
     "output_type": "stream",
     "text": [
      "3\n",
      "3\n",
      "1 2 3\n",
      "1\n",
      "1\n"
     ]
    }
   ],
   "source": [
    "\n",
    "vet = []\n",
    "\n",
    "def iguais(lista, pontuacao, listaa):\n",
    "    texto = []\n",
    "    for a in range(0, len(listaa)):\n",
    "        if pontuacao == lista[listaa[a]]:\n",
    "            texto.append(listaa[a])\n",
    "    texto.sort()\n",
    "    texto = ' '.join(texto)\n",
    "\n",
    "    \n",
    "    vet.append(texto)\n",
    "def insere(listaposicoes, dicionario, index):\n",
    "    if len(listaposicoes) == index -1:\n",
    "        return dicionario\n",
    "    else:\n",
    "        dicionario[str(index)]['lista'] += [int(listaposicoes[index-1])]\n",
    "        return insere(listaposicoes, dicionario, index + 1)\n",
    "def cria(qtd):\n",
    "    lista = {}\n",
    "    for a in range(1, qtd+1):\n",
    "        lista[str(a)] = {'lista':[], 'pontuacao': 0}\n",
    "    return lista\n",
    "def somapontos(listaposicoes, sistema):\n",
    "    listaPontos = {}\n",
    "    for b in range(1, len(listaposicoes)+1):\n",
    "        for a in range(1, len(sistema)):\n",
    "            for c in listaposicoes[str(b)]['lista']:\n",
    "                if a == c:\n",
    "                    if str(b) in listaPontos:\n",
    "                        listaPontos[str(b)] += int(sistema[a])\n",
    "                    else:\n",
    "                        temp = {str(b): int(sistema[a])}\n",
    "                        listaPontos.update(temp)\n",
    "    return listaPontos\n",
    "def maior(lista, maiornum, index, listaa):\n",
    "    if len(lista) == index:\n",
    "        return maiornum\n",
    "    elif lista[listaa[index]] > maiornum:\n",
    "        maiornum = lista[listaa[index]]\n",
    "    return maior(lista, maiornum, index + 1, listaa)\n",
    "def main():\n",
    "    linha = str(input())\n",
    "    if linha != '0 0':\n",
    "        spl = linha.split(' ')\n",
    "        qtdPremios = int(spl[0])\n",
    "        qtdPilotos = int(spl[1])\n",
    "        listaPosicoes = cria(qtdPilotos)\n",
    "        for a in range(1, qtdPremios+1):\n",
    "            linha1 = str(input())\n",
    "            listaPosicoes = insere(linha1.split(' '), listaPosicoes, 1)\n",
    "        qtdsistpont = int(input())\n",
    "        listaPontuacao = []\n",
    "        for b in range(0, qtdsistpont):\n",
    "            linha2 = str(input())\n",
    "            listaPontuacao = somapontos(listaPosicoes, linha2.split(' '))\n",
    "            ind = list(listaPontuacao.keys())\n",
    "            maximo = maior(listaPontuacao, 0, 0, ind)\n",
    "            iguais(listaPontuacao, maximo, ind)\n",
    "        main()\n",
    "    else:\n",
    "        \n",
    "        for i in vet:\n",
    "            print(i)\n",
    "main()\n",
    "\n",
    "\n",
    "\n",
    "\n"
   ]
  },
  {
   "cell_type": "code",
   "execution_count": null,
   "metadata": {},
   "outputs": [],
   "source": [
    "from collections import Counter\n",
    "\n",
    "def most_frequent_letters(text):\n",
    "    text = text.lower()\n",
    "    letter_counts = Counter(char for char in text if char.isalpha())\n",
    "    max_count = max(letter_counts.values())\n",
    "    most_frequent = [letter for letter, count in letter_counts.items() if count == max_count]\n",
    "    most_frequent.sort()\n",
    "    return most_frequent\n",
    "\n",
    "N = int(input())\n",
    "\n",
    "for _ in range(N):\n",
    "    text = input()\n",
    "    result = most_frequent_letters(text)\n",
    "    print(''.join(result))\n",
    "\n"
   ]
  },
  {
   "cell_type": "code",
   "execution_count": null,
   "metadata": {},
   "outputs": [],
   "source": [
    "def custom_sort(num):\n",
    "   \n",
    "    if num % 2 == 0:\n",
    "        return (0, num)  \n",
    "    else:\n",
    "        return (1, -num) \n",
    "\n",
    "N = int(input())\n",
    "\n",
    "numbers = []\n",
    "for _ in range(N):\n",
    "    num = int(input())\n",
    "    numbers.append(num)\n",
    "\n",
    "sorted_numbers = sorted(numbers, key=custom_sort)\n",
    "\n",
    "for num in sorted_numbers:\n",
    "    print(num)\n"
   ]
  }
 ],
 "metadata": {
  "kernelspec": {
   "display_name": "Python 3",
   "language": "python",
   "name": "python3"
  },
  "language_info": {
   "codemirror_mode": {
    "name": "ipython",
    "version": 3
   },
   "file_extension": ".py",
   "mimetype": "text/x-python",
   "name": "python",
   "nbconvert_exporter": "python",
   "pygments_lexer": "ipython3",
   "version": "3.11.8"
  }
 },
 "nbformat": 4,
 "nbformat_minor": 2
}
