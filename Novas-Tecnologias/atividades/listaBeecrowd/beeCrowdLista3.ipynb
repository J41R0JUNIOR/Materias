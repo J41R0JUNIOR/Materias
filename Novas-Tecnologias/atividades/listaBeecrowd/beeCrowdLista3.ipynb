{
 "cells": [
  {
   "cell_type": "code",
   "execution_count": 20,
   "metadata": {},
   "outputs": [
    {
     "name": "stdout",
     "output_type": "stream",
     "text": [
      "Impossivel calcular\n"
     ]
    }
   ],
   "source": [
    "import math\n",
    "a, b, c = map(float, input().split())\n",
    "\n",
    "delta = pow(b,2) - 4 * a * c\n",
    "\n",
    "if delta <= 0 or a == 0:\n",
    "    print(\"Impossivel calcular\")\n",
    "else:\n",
    "    r1 = (-b + math.sqrt(delta)) / (2 * a)\n",
    "    r2 = (-b - math.sqrt(delta)) / (2 * a)\n",
    "    print(\"R1 = {:.5f}\" .format(r1))\n",
    "    print(\"R2 = {:.5f}\" .format(r2))"
   ]
  },
  {
   "cell_type": "code",
   "execution_count": 226,
   "metadata": {},
   "outputs": [
    {
     "name": "stdout",
     "output_type": "stream",
     "text": [
      "3\n",
      "3\n",
      "1 2 3\n",
      "1\n",
      "1\n"
     ]
    }
   ],
   "source": [
    "t = True\n",
    "while t:\n",
    "    g, p = map(int, input().split())\n",
    "    if g == 0 and p == 0:\n",
    "        t = False\n",
    "        break\n",
    "\n",
    "    while (g < 1 or g > 100):\n",
    "        g = int(input())\n",
    "\n",
    "    while (p < 1 or p > 100):\n",
    "        p = int(input())\n",
    "\n",
    "    q = []\n",
    "\n",
    "    for i in range(g):\n",
    "        queue = input().split()\n",
    "        queue = queue[0:p]\n",
    "        queue = [int(n) for n in queue]\n",
    "        q.append(queue)\n",
    "\n",
    "\n",
    "    s = int(input())\n",
    "\n",
    "    while (s < 1 or s > 10):\n",
    "        s = int(input())\n",
    "\n",
    "    scoresDescriptions = []\n",
    "    k = []\n",
    "\n",
    "    for i in range(s):\n",
    "        scoreSequence = input().split()\n",
    "        scoreSequence = [int(n) for n in scoreSequence]\n",
    "        \n",
    "        k.append(scoreSequence[0])\n",
    "        \n",
    "        scoresDescriptions.append(scoreSequence[1:k[i]+1])\n",
    "\n",
    "    resultado = {}\n",
    "\n",
    "\n",
    "\n",
    "    indices = []\n",
    "    for scores in scoresDescriptions:\n",
    "        resultado = {piloto: 0 for corrida in q for piloto in corrida}\n",
    "\n",
    "        for j, points in enumerate(scores):\n",
    "            for k, race in enumerate(q):\n",
    "                resultado[race[j]] += points\n",
    "\n",
    "        max_score = max(resultado.values())\n",
    "        indices = [piloto for piloto, score in resultado.items() if score == max_score]\n",
    "        \n",
    "        indices.sort()\n",
    "        print(\" \".join(str(p) for p in indices))\n",
    "\n",
    "\n",
    "\n",
    "\n"
   ]
  },
  {
   "cell_type": "code",
   "execution_count": 227,
   "metadata": {},
   "outputs": [
    {
     "name": "stdout",
     "output_type": "stream",
     "text": [
      "1\n"
     ]
    }
   ],
   "source": [
    "def calculate_scores(results, scoring_system):\n",
    "    scores = [0] * len(results)\n",
    "    for system in scoring_system:\n",
    "        K, points = system[0], system[1:]\n",
    "        for i in range(K):\n",
    "            scores[i] += points[i]\n",
    "    return scores\n",
    "\n",
    "def find_champions(scores):\n",
    "    max_score = max(scores)\n",
    "    champions = [i+1 for i, score in enumerate(scores) if score == max_score]\n",
    "    return champions\n",
    "\n",
    "def main():\n",
    "    while True:\n",
    "        G, P = map(int, input().split())\n",
    "        if G == 0 and P == 0:\n",
    "            break\n",
    "        \n",
    "        results = [list(map(int, input().split())) for _ in range(G)]\n",
    "        \n",
    "        S = int(input())\n",
    "        scoring_systems = [list(map(int, input().split())) for _ in range(S)]\n",
    "        \n",
    "        overall_scores = [0] * P\n",
    "        for race in results:\n",
    "            race_scores = calculate_scores(race, scoring_systems)\n",
    "            overall_scores = [overall_scores[i] + race_scores[i] for i in range(P)]\n",
    "        \n",
    "        champions = find_champions(overall_scores)\n",
    "        print(*champions)\n",
    "\n",
    "if __name__ == \"__main__\":\n",
    "    main()\n"
   ]
  },
  {
   "cell_type": "code",
   "execution_count": null,
   "metadata": {},
   "outputs": [],
   "source": [
    "from collections import Counter\n",
    "\n",
    "def most_frequent_letters(text):\n",
    "    text = text.lower()\n",
    "    letter_counts = Counter(char for char in text if char.isalpha())\n",
    "    max_count = max(letter_counts.values())\n",
    "    most_frequent = [letter for letter, count in letter_counts.items() if count == max_count]\n",
    "    most_frequent.sort()\n",
    "    return most_frequent\n",
    "\n",
    "N = int(input())\n",
    "\n",
    "for _ in range(N):\n",
    "    text = input()\n",
    "    result = most_frequent_letters(text)\n",
    "    print(''.join(result))\n",
    "\n"
   ]
  },
  {
   "cell_type": "code",
   "execution_count": null,
   "metadata": {},
   "outputs": [],
   "source": [
    "def custom_sort(num):\n",
    "   \n",
    "    if num % 2 == 0:\n",
    "        return (0, num)  \n",
    "    else:\n",
    "        return (1, -num) \n",
    "\n",
    "N = int(input())\n",
    "\n",
    "numbers = []\n",
    "for _ in range(N):\n",
    "    num = int(input())\n",
    "    numbers.append(num)\n",
    "\n",
    "sorted_numbers = sorted(numbers, key=custom_sort)\n",
    "\n",
    "for num in sorted_numbers:\n",
    "    print(num)\n"
   ]
  }
 ],
 "metadata": {
  "kernelspec": {
   "display_name": "Python 3",
   "language": "python",
   "name": "python3"
  },
  "language_info": {
   "codemirror_mode": {
    "name": "ipython",
    "version": 3
   },
   "file_extension": ".py",
   "mimetype": "text/x-python",
   "name": "python",
   "nbconvert_exporter": "python",
   "pygments_lexer": "ipython3",
   "version": "3.11.8"
  }
 },
 "nbformat": 4,
 "nbformat_minor": 2
}
