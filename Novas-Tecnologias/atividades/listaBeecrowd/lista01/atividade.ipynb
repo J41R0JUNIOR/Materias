{
 "cells": [
  {
   "cell_type": "code",
   "execution_count": null,
   "metadata": {},
   "outputs": [],
   "source": [
    "r = float(input(str(\"Digite o raio do círculo: \")))\n",
    "\n",
    "area = 3.14 * pow(r,2)\n",
    "print(area, \"é a área do círculo\")"
   ]
  },
  {
   "cell_type": "code",
   "execution_count": null,
   "metadata": {},
   "outputs": [],
   "source": [
    "r = float(input(str(\"Digite o raio do círculo: \")))\n",
    "\n",
    "area = 3.141592653589793238462643383279502884197169399375105820974944 * pow(r,2)\n",
    "print(\"{:.2f} é a área do círculo\" .format(area))"
   ]
  },
  {
   "cell_type": "code",
   "execution_count": null,
   "metadata": {},
   "outputs": [],
   "source": [
    "n = float(input(\"digite um numero: \"))\n",
    "n1 = float(input(\"digite outro: \"))\n",
    "\n",
    "\n",
    "if n > n1:\n",
    "    print(\"{:.2f} é maior que {:.2f}\".format(n, n1))\n",
    "else:\n",
    "    print(\"{:.2f} é maior que {:.2f}\".format(n1,n))"
   ]
  },
  {
   "cell_type": "code",
   "execution_count": null,
   "metadata": {},
   "outputs": [],
   "source": [
    "n = float(input(\"digite um numero: \"))\n",
    "n1 = float(input(\"digite outro: \"))\n",
    "\n",
    "while n1 == n:\n",
    "  n1 = float(input(\"Número igual ao primeiro, digite outro: \"))\n",
    "\n",
    "\n",
    "\n",
    "if n > n1:\n",
    "    print(\"{:.2f} é maior que {:.2f}\".format(n, n1))\n",
    "else:\n",
    "    print(\"{:.2f} é maior que {:.2f}\".format(n1,n))"
   ]
  },
  {
   "cell_type": "code",
   "execution_count": null,
   "metadata": {},
   "outputs": [],
   "source": [
    "\n",
    "qtd = 1\n",
    "max = 3\n",
    "randInt = 5\n",
    "userTry = int(input(\"try figure out the number, type some: \"))\n",
    "\n",
    "while randInt != userTry and qtd < max:\n",
    "    qtd += 1\n",
    "    if userTry > randInt:\n",
    "        print(\"The number is smaller\")\n",
    "    else:\n",
    "        print(\"The number is greater\")\n",
    "\n",
    "    userTry = int(input(\"Try figure out the number, type some: \"))\n",
    "   \n",
    "\n",
    "if userTry == randInt:\n",
    "  print(\"Congratulations you got it\")\n",
    "else:\n",
    "  print(\"Game Over\")"
   ]
  },
  {
   "cell_type": "code",
   "execution_count": 1,
   "metadata": {},
   "outputs": [
    {
     "name": "stdout",
     "output_type": "stream",
     "text": [
      "The number is greater\n"
     ]
    }
   ],
   "source": [
    "import random\n",
    "\n",
    "qtd = 1\n",
    "max = 3\n",
    "randInt = random.randint(0, 10)\n",
    "userTry = int(input(\"try figure out the number, type some: \"))\n",
    "\n",
    "while randInt != userTry and qtd < max:\n",
    "    qtd += 1\n",
    "    max -= 1\n",
    "    if userTry > randInt:\n",
    "        print(\"The number is smaller\")\n",
    "    else:\n",
    "        print(\"The number is greater\")\n",
    "\n",
    "    userTry = int(input(\"Try figure out the number, type some: \"))\n",
    "   \n",
    "\n",
    "if userTry == randInt:\n",
    "  print(\"Congratulations you got it\")\n",
    "else:\n",
    "  print(\"Game Over\")"
   ]
  }
 ],
 "metadata": {
  "kernelspec": {
   "display_name": "Python 3",
   "language": "python",
   "name": "python3"
  },
  "language_info": {
   "codemirror_mode": {
    "name": "ipython",
    "version": 3
   },
   "file_extension": ".py",
   "mimetype": "text/x-python",
   "name": "python",
   "nbconvert_exporter": "python",
   "pygments_lexer": "ipython3",
   "version": "3.11.8"
  }
 },
 "nbformat": 4,
 "nbformat_minor": 2
}
