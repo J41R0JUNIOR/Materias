{
  "cells": [
    {
      "cell_type": "markdown",
      "metadata": {
        "id": "ar5gAKbh4NxG"
      },
      "source": [
        "![](https://ucb.catolica.edu.br/hubfs/SITE/logo__catolica--footer.svg)\n",
        "# Universidade Católica de Brasília\n",
        "# Novas Tecnologias\n",
        "\n",
        "## Lista de exercícios - turma terça\n",
        "\n",
        "### Nome do aluno: Jairo Pereira de Sousa Júnior\n",
        "### Matrícula do aluno: UC22101494\n",
        "\n",
        "Observação: as questões apresentam arquivos de entrada e exemplos puramente ilustrativos. As soluções devem ser genéricas e aceitar entradas quaisquer com as características descritas."
      ]
    },
    {
      "cell_type": "code",
      "execution_count": null,
      "metadata": {
        "id": "YgSnYhKu4A-t"
      },
      "outputs": [],
      "source": [
        "import numpy as np"
      ]
    },
    {
      "cell_type": "markdown",
      "metadata": {
        "id": "W0EifiNQCGtT"
      },
      "source": [
        "## Questão 1\n",
        "\n",
        "\n",
        "![](https://drive.google.com/uc?export=view&id=1ET6csWX4KxTKnmXMerJLSb-k9UnLBrFR)\n"
      ]
    },
    {
      "cell_type": "code",
      "execution_count": 265,
      "metadata": {
        "id": "JHH8I_DZaP5a"
      },
      "outputs": [],
      "source": [
        "def tempoUltrapassar(A, B, taxaA, taxaB):\n",
        "    anos = 0\n",
        "    while A <= B:\n",
        "        A = int(A * (1 + taxaA / 100))\n",
        "        B = int(B * (1 + taxaB / 100))\n",
        "        anos += 1\n",
        "        if anos > 100:    \n",
        "            return \"Mais de um século.\"\n",
        "        \n",
        "   \n",
        "    return  \"{} anos.\" .format(anos)\n",
        "\n",
        "\n",
        "with open(\"crescimento.txt\", \"r\") as file:\n",
        "    casosTeste = int(file.readline())\n",
        "    resultados = []\n",
        "    for _ in range(casosTeste):\n",
        "        PA, PB, GA, GB = map(float, file.readline().split())\n",
        "        resultado = tempoUltrapassar(PA, PB, GA, GB)\n",
        "        resultados.append(resultado)\n",
        "\n",
        "    file.close()\n",
        "\n",
        "with open(\"saidaCrescimento.txt\", \"w\") as outFile:\n",
        "    for resultado in resultados:\n",
        "        outFile.write(resultado + \"\\n\")\n",
        "\n",
        "    outFile.close()\n",
        "\n",
        "\n"
      ]
    },
    {
      "cell_type": "markdown",
      "metadata": {
        "id": "8COG_8AX0eoy"
      },
      "source": [
        "## Questão 2\n",
        "\n",
        "\n",
        "![](https://drive.google.com/uc?export=view&id=1cttZWwgBkDfPOy0BQXcWs1daD7LxhsaT)\n",
        "\n"
      ]
    },
    {
      "cell_type": "code",
      "execution_count": 266,
      "metadata": {
        "id": "E0DsB8CWaRvZ"
      },
      "outputs": [],
      "source": [
        "jogos = []\n",
        "\n",
        "with open(\"jogos.txt\", 'r') as file:\n",
        "    qtdJogos = int(file.readline())\n",
        "\n",
        "    for linha in file:\n",
        "        iHora, iMin, fHora, fMin = map(int, linha.split())\n",
        "        jogos.append((iHora, iMin, fHora, fMin))\n",
        "    \n",
        "    file.close()\n",
        "        \n",
        "with open(\"jogosSaida.txt\", 'w') as outFile:\n",
        "    for jogo in jogos:\n",
        "        iHora, iMin, fHora, fMin = jogo\n",
        "        duracaoHoras = fHora - iHora\n",
        "        duracaoMin = fMin - iMin\n",
        "        \n",
        "        if duracaoHoras < 0:\n",
        "            duracaoHoras += 24\n",
        " \n",
        "        if duracaoMin < 0:\n",
        "            duracaoMin += 60\n",
        "            duracaoHoras -= 1\n",
        "\n",
        "        outFile.write(\"O jogo durou {} horas e {} minutos.\\n\" .format(duracaoHoras, duracaoMin))\n",
        "\n",
        "    outFile.close()\n"
      ]
    },
    {
      "cell_type": "markdown",
      "metadata": {
        "id": "-RLbBSKN7K9o"
      },
      "source": [
        "## Questão 3\n",
        "\n",
        "\n",
        "![](https://drive.google.com/uc?export=view&id=1Lrb3X1WLJbaC9IMNqvvMxROeLM_oqcEQ)\n",
        "\n",
        "\n"
      ]
    },
    {
      "cell_type": "code",
      "execution_count": 233,
      "metadata": {
        "id": "PlTy9S_CaUjr"
      },
      "outputs": [],
      "source": [
        "def valorQuebrado(digito, valorOriginal):\n",
        "    retirando = valorOriginal\n",
        "    \n",
        "    if digito in valorOriginal:\n",
        "        retirando = retirando.replace(digito, \"\")\n",
        "        if retirando == \"\" or retirando[0] == \"0\":\n",
        "            retirando = \"0\"\n",
        "\n",
        "    return retirando\n",
        "\n",
        "with open(\"contrato.txt\", \"r\") as file, open(\"saidaContrato.txt\", 'w') as outFile:\n",
        "    \n",
        "    for linha in file:\n",
        "        linha = linha.strip() \n",
        "        if linha != \"0 0\":\n",
        "            D, N = map(str, linha.split())\n",
        "            valorFinal = valorQuebrado(D, N)\n",
        "            \n",
        "            outFile.write(\"{}\\n\".format(valorFinal) )\n",
        "        else:\n",
        "            break\n",
        "        \n",
        "    file.close()\n",
        "    outFile.close()\n",
        "\n",
        "\n",
        "\n"
      ]
    },
    {
      "cell_type": "markdown",
      "metadata": {
        "id": "_vo6FP8hE1VX"
      },
      "source": [
        "## Questão 4\n",
        "\n",
        "\n",
        "![](https://drive.google.com/uc?export=view&id=1UbLtbKjsC41Bym8XSR-0il2khSWPGcOq)\n"
      ]
    },
    {
      "cell_type": "code",
      "execution_count": 91,
      "metadata": {
        "colab": {
          "base_uri": "https://localhost:8080/"
        },
        "id": "NIfawHFbEtK4",
        "outputId": "79d07ba0-66e9-4c85-9b7d-c2ce701a25ec"
      },
      "outputs": [],
      "source": [
        "def contarSubstring(primeiro, segundo):\n",
        "    matriz = [[0] * (len(segundo) + 1) for _ in range(len(primeiro) + 1)]\n",
        "    maiorSubsequencia = 0\n",
        "\n",
        "    for i in range(1, len(primeiro) + 1):\n",
        "        for j in range(1, len(segundo) + 1):\n",
        "            if primeiro[i - 1] == segundo[j - 1]:\n",
        "                matriz[i][j] = matriz[i - 1][j - 1] + 1\n",
        "                maiorSubsequencia = max(maiorSubsequencia, matriz[i][j])\n",
        "            else:\n",
        "                matriz[i][j] = 0\n",
        "\n",
        "    return maiorSubsequencia\n",
        "\n",
        "with open(\"substring.txt\", 'r') as file:\n",
        "    qtdCasosTeste = int(file.readline())\n",
        "    \n",
        "    file.close()\n",
        "\n",
        "    with open(\"saidaSubstring.txt\", 'w') as outFile:\n",
        "        for _ in range(qtdCasosTeste):\n",
        "            primeiro = file.readline().strip()\n",
        "            segundo = file.readline().strip()\n",
        "\n",
        "            resultado = contarSubstring(primeiro, segundo)\n",
        "            outFile.write(\"{}\\n\" .format(resultado))\n",
        "\n",
        "        outFile.close()\n"
      ]
    },
    {
      "cell_type": "markdown",
      "metadata": {
        "id": "2eFBUp35dgts"
      },
      "source": [
        "## Questão 5\n",
        "\n",
        "\n",
        "\n",
        "![](https://drive.google.com/uc?export=view&id=1RguMLFDGstJVjJ0UvbPLFPfo058M6BPu)\n"
      ]
    },
    {
      "cell_type": "code",
      "execution_count": 11,
      "metadata": {
        "id": "C9G3MSu9pQlS"
      },
      "outputs": [],
      "source": [
        "\n",
        "import numpy as np\n",
        "\n",
        "# def criarMatriz(N):\n",
        "#     matriz = np.zeros((N, N), dtype=int)\n",
        "#     for i in range(N):\n",
        "#         for j in range(N):\n",
        "#             matriz[i][j] = abs(i - j) ** 2\n",
        "#     return matriz\n",
        "\n",
        "def criarMatriz(N):\n",
        "    matriz = np.zeros((N, N), dtype=int)\n",
        "    for i in range(N):\n",
        "        for j in range(N):\n",
        "            matriz[i][j] = abs(i - j) ** 2\n",
        "    return matriz\n",
        "\n",
        "\n",
        "def multiplos4(matriz):\n",
        "    multiplos4 = matriz[matriz % 4 == 0]\n",
        "    semRepetir = [*set(multiplos4)]\n",
        "    return semRepetir\n",
        "   \n",
        "def menorSomaLinha(matriz):\n",
        "    somas = matriz.sum(axis=1)\n",
        "    return somas.argmin(axis=0), min(somas)\n",
        "\n",
        "def maiorValorColuna(matriz):\n",
        "    maxColunas = matriz.max(axis=0)\n",
        "    return maxColunas\n",
        "\n",
        "N = int()\n",
        "with open(\"matriz.txt\", 'r') as file:\n",
        "    N = int(file.readline())\n",
        "    \n",
        "    file.close()\n",
        "\n",
        "# N = int(input(\"Digite o valor de N: \"))\n",
        "matriz = criarMatriz(N)\n",
        "multiplos_4 = multiplos4(matriz)\n",
        "linha_minima, soma_minima = menorSomaLinha(matriz)\n",
        "maioresValoresColuna = maiorValorColuna(matriz)\n",
        "\n",
        "with open(\"matrizSaida.txt\", 'w') as OutFile:\n",
        "    OutFile.write(\"Matriz:\\n\")\n",
        "    OutFile.write(np.array_str(matriz) + \"\\n\")\n",
        "    OutFile.write(\"A matriz tem {} multiplos de 4 que sao: {}\\n\" .format(len(multiplos_4), sorted(multiplos_4)))\n",
        "    OutFile.write(\"Linha com menor soma é a {}, cuja soma é {}\\n\" .format(linha_minima, soma_minima))\n",
        "    OutFile.write(\"Os maiores valores de cada coluna são {}: \\n\" .format(maioresValoresColuna))\n",
        "\n",
        "    OutFile.close()\n"
      ]
    },
    {
      "cell_type": "markdown",
      "metadata": {
        "id": "Ys0PJCquQyZK"
      },
      "source": [
        "## Questão 6\n",
        "\n",
        "\n",
        "\n",
        "![](https://drive.google.com/uc?export=view&id=1tM5iWp51L-4RYwCfoSGPQ-WBuDwdkJbH)\n",
        "\n",
        "\n",
        "\n"
      ]
    },
    {
      "cell_type": "code",
      "execution_count": 143,
      "metadata": {
        "id": "7flM2w6hbv5Q"
      },
      "outputs": [],
      "source": [
        "def ordenaStrings(strings):\n",
        "    return sorted(strings, key=lambda x: (-len(x), strings.index(x)))\n",
        "\n",
        "with open('ordena.txt', 'r') as entrada:\n",
        "    casosTeste = int(entrada.readline().strip())\n",
        "    conjuntoStrings = [entrada.readline().strip() for _ in range(casosTeste)]\n",
        "    \n",
        "    entrada.close()\n",
        "\n",
        "conjuntoOrdenado = [ordenaStrings(strings.split()) for strings in conjuntoStrings]\n",
        "\n",
        "with open('saidaOrdena.txt', 'w') as saida:\n",
        "    for conjunto in conjuntoOrdenado:\n",
        "        for palavra in conjunto:\n",
        "            saida.write(palavra + ' ')\n",
        "        saida.write('\\n')\n",
        "\n",
        "    saida.close()"
      ]
    },
    {
      "cell_type": "markdown",
      "metadata": {
        "id": "BiolaNDdprGH"
      },
      "source": [
        "## Questão 7\n",
        "\n",
        "\n",
        "![](https://drive.google.com/uc?export=view&id=1DORcWr9DjVjQhu10a2sME2BuvWusjeAt)\n"
      ]
    },
    {
      "cell_type": "code",
      "execution_count": 354,
      "metadata": {
        "id": "UDTf8_B1biI_"
      },
      "outputs": [
        {
          "name": "stdout",
          "output_type": "stream",
          "text": [
            "['peixe', 'sorvete', 'tomate']\n"
          ]
        }
      ],
      "source": [
        "contagem_itens = {}\n",
        "total_itens = {}\n",
        "compras_sabado = {}\n",
        "\n",
        "linhas = []\n",
        "with open(\"compras.txt\") as file:\n",
        "    for linha in file:\n",
        "        linhas.append(linha.strip()) \n",
        "    file.close()\n",
        "\n",
        "linhas.remove(\"\")\n",
        " \n",
        "for linha in linhas[:-1]:\n",
        "    itens = linha.split()\n",
        "    for i in range(0, len(itens), 2):\n",
        "        item = itens[i]\n",
        "        quantidade = int(itens[i + 1])\n",
        "\n",
        "        if item in contagem_itens:\n",
        "            contagem_itens[item] += 1\n",
        "        else:\n",
        "            contagem_itens[item] = 1\n",
        "\n",
        "        if item in total_itens:\n",
        "            total_itens[item] += quantidade\n",
        "        else:\n",
        "            total_itens[item] = quantidade\n",
        "\n",
        "linha_sabado = linhas[-1]\n",
        "itens_sabado = linha_sabado.split()\n",
        "for i in range(0, len(itens_sabado), 2):\n",
        "    item_sabado = itens_sabado[i]\n",
        "    quantidade_sabado = int(itens_sabado[i + 1])\n",
        "\n",
        "    if item_sabado in compras_sabado:\n",
        "        compras_sabado[item_sabado] += quantidade_sabado\n",
        "    else:\n",
        "        compras_sabado[item_sabado] = quantidade_sabado\n",
        "\n",
        "with open(\"comprasSaida\",'w') as outFile:    \n",
        "    for item in sorted(contagem_itens.keys()):\n",
        "        if contagem_itens[item] == len(linhas) - 1: \n",
        "            outFile.write(\"{} \" .format(item))\n",
        "\n",
        "    outFile.write(\"\\nTotais comprados de cada produto:\\n {}\" .format(total_itens))\n",
        "    itens_exclusivos_sabado = sorted(set(compras_sabado.keys()) - set(contagem_itens.keys()))\n",
        "\n",
        "    print(itens_exclusivos_sabado)\n",
        "    if itens_exclusivos_sabado:\n",
        "        outFile.write(\"\\nProdutos comprados só aos sábados: {}\" .format(tuple(itens_exclusivos_sabado)))\n",
        "\n",
        "    else:\n",
        "        outFile.write(\"Não há itens comprados apenas no sábado.\")\n",
        "    outFile.close()\n"
      ]
    },
    {
      "cell_type": "code",
      "execution_count": null,
      "metadata": {},
      "outputs": [],
      "source": [
        "contagem_itens = {}\n",
        "total_itens = {}\n",
        "compras_sabado = {}\n",
        "\n",
        "# arquivo_entrada = \"compras.txt\"\n",
        "# arquivo_saida = \"comprasSaida.txt\"\n",
        "\n",
        "with open(\"compras.txt\", 'r') as file:\n",
        "    for linha in file:\n",
        "        itens = linha.strip().split()\n",
        "        for i in range(0, len(itens), 2):\n",
        "            item = itens[i]\n",
        "            quantidade = int(itens[i + 1])\n",
        "\n",
        "            contagem_itens[item] = contagem_itens.get(item, 0) + 1\n",
        "            total_itens[item] = total_itens.get(item, 0) + quantidade\n",
        "\n",
        "            if item in compras_sabado:\n",
        "                compras_sabado[item] += quantidade\n",
        "            else:\n",
        "                compras_sabado[item] = quantidade\n",
        "\n",
        "\n",
        "\n",
        "with open(\"comprasSaida.txt\", 'w') as outFile: \n",
        "\n",
        "    for item in sorted(contagem_itens.keys()):\n",
        "        if(contagem_itens[item] >= len(linhas) - 1):\n",
        "            outFile.write(\"{} \" .format(item))\n",
        "           \n",
        "        \n",
        "\n",
        "        # if contagem_itens[item] == len(linhas) - 1: \n",
        "        #     outFile.write(\"{} \" .format(item))\n",
        "\n",
        "    outFile.write(\"\\nTotais comprados de cada produto:\\n{}\".format(total_itens))\n",
        "\n",
        "    itens_exclusivos_sabado = sorted(set(compras_sabado.keys()) - set(contagem_itens.keys()))\n",
        "    \n",
        "    if itens_exclusivos_sabado:\n",
        "        outFile.write(\"\\nProdutos comprados só aos sábados: {}\".format(tuple(itens_exclusivos_sabado)))\n",
        "  \n",
        "\n",
        "\n"
      ]
    }
  ],
  "metadata": {
    "colab": {
      "provenance": []
    },
    "kernelspec": {
      "display_name": "Python 3",
      "name": "python3"
    },
    "language_info": {
      "codemirror_mode": {
        "name": "ipython",
        "version": 3
      },
      "file_extension": ".py",
      "mimetype": "text/x-python",
      "name": "python",
      "nbconvert_exporter": "python",
      "pygments_lexer": "ipython3",
      "version": "3.11.8"
    }
  },
  "nbformat": 4,
  "nbformat_minor": 0
}
