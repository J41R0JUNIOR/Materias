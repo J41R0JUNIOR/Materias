{
  "cells": [
    {
      "cell_type": "markdown",
      "metadata": {
        "id": "ar5gAKbh4NxG"
      },
      "source": [
        "![](https://ucb.catolica.edu.br/hubfs/SITE/logo__catolica--footer.svg)\n",
        "# Universidade Católica de Brasília\n",
        "# Novas Tecnologias\n",
        "\n",
        "## Lista de exercícios - turma terça\n",
        "\n",
        "### Nome do aluno:\n",
        "### Matrícula do aluno:\n",
        "\n",
        "Observação: as questões apresentam arquivos de entrada e exemplos puramente ilustrativos. As soluções devem ser genéricas e aceitar entradas quaisquer com as características descritas."
      ]
    },
    {
      "cell_type": "code",
      "execution_count": null,
      "metadata": {
        "id": "YgSnYhKu4A-t"
      },
      "outputs": [],
      "source": [
        "import numpy as np"
      ]
    },
    {
      "cell_type": "markdown",
      "metadata": {
        "id": "W0EifiNQCGtT"
      },
      "source": [
        "## Questão 1\n",
        "\n",
        "\n",
        "![](https://drive.google.com/uc?export=view&id=1ET6csWX4KxTKnmXMerJLSb-k9UnLBrFR)\n"
      ]
    },
    {
      "cell_type": "code",
      "execution_count": null,
      "metadata": {
        "id": "JHH8I_DZaP5a"
      },
      "outputs": [],
      "source": []
    },
    {
      "cell_type": "markdown",
      "metadata": {
        "id": "8COG_8AX0eoy"
      },
      "source": [
        "## Questão 2\n",
        "\n",
        "\n",
        "![](https://drive.google.com/uc?export=view&id=1cttZWwgBkDfPOy0BQXcWs1daD7LxhsaT)\n",
        "\n"
      ]
    },
    {
      "cell_type": "code",
      "execution_count": 67,
      "metadata": {
        "id": "E0DsB8CWaRvZ"
      },
      "outputs": [],
      "source": [
        "jogos = []\n",
        "\n",
        "with open(\"jogos.txt\", 'r') as file:\n",
        "    qtdJogos = int(file.readline())\n",
        "\n",
        "    for linha in file:\n",
        "        iHora, iMin, fHora, fMin = map(int, linha.split())\n",
        "        jogos.append((iHora, iMin, fHora, fMin))\n",
        "    \n",
        "    file.close()\n",
        "        \n",
        "with open(\"jogosSaida.txt\", 'w') as outFile:\n",
        "    for jogo in jogos:\n",
        "        iHora, iMin, fHora, fMin = jogo\n",
        "        duracaoHoras = fHora - iHora\n",
        "        duracaoMin = fMin - iMin\n",
        "        \n",
        "        if duracaoHoras < 0:\n",
        "            duracaoHoras += 24\n",
        " \n",
        "        if duracaoMin < 0:\n",
        "            duracaoMin += 60\n",
        "            duracaoHoras -= 1\n",
        "\n",
        "        outFile.write(f\"O jogo durou {duracaoHoras} horas e {duracaoMin} minutos.\\n\")\n",
        "\n",
        "    outFile.close()\n"
      ]
    },
    {
      "cell_type": "markdown",
      "metadata": {
        "id": "-RLbBSKN7K9o"
      },
      "source": [
        "## Questão 3\n",
        "\n",
        "\n",
        "![](https://drive.google.com/uc?export=view&id=1Lrb3X1WLJbaC9IMNqvvMxROeLM_oqcEQ)\n",
        "\n",
        "\n"
      ]
    },
    {
      "cell_type": "code",
      "execution_count": null,
      "metadata": {
        "id": "PlTy9S_CaUjr"
      },
      "outputs": [],
      "source": []
    },
    {
      "cell_type": "markdown",
      "metadata": {
        "id": "_vo6FP8hE1VX"
      },
      "source": [
        "## Questão 4\n",
        "\n",
        "\n",
        "![](https://drive.google.com/uc?export=view&id=1UbLtbKjsC41Bym8XSR-0il2khSWPGcOq)\n"
      ]
    },
    {
      "cell_type": "code",
      "execution_count": 91,
      "metadata": {
        "colab": {
          "base_uri": "https://localhost:8080/"
        },
        "id": "NIfawHFbEtK4",
        "outputId": "79d07ba0-66e9-4c85-9b7d-c2ce701a25ec"
      },
      "outputs": [],
      "source": [
        "def contarSubstring(primeiro, segundo):\n",
        "    matriz = [[0] * (len(segundo) + 1) for _ in range(len(primeiro) + 1)]\n",
        "    maiorSubsequencia = 0\n",
        "\n",
        "    for i in range(1, len(primeiro) + 1):\n",
        "        for j in range(1, len(segundo) + 1):\n",
        "            if primeiro[i - 1] == segundo[j - 1]:\n",
        "                matriz[i][j] = matriz[i - 1][j - 1] + 1\n",
        "                maiorSubsequencia = max(maiorSubsequencia, matriz[i][j])\n",
        "            else:\n",
        "                matriz[i][j] = 0\n",
        "\n",
        "    return maiorSubsequencia\n",
        "\n",
        "with open(\"substring.txt\", 'r') as file:\n",
        "    qtdCasosTeste = int(file.readline())\n",
        "\n",
        "    with open(\"saidaSubstring.txt\", 'w') as outFile:\n",
        "        for _ in range(qtdCasosTeste):\n",
        "            primeiro = file.readline().strip()\n",
        "            segundo = file.readline().strip()\n",
        "\n",
        "            resultado = contarSubstring(primeiro, segundo)\n",
        "            outFile.write(\"{}\\n\" .format(resultado))\n"
      ]
    },
    {
      "cell_type": "markdown",
      "metadata": {
        "id": "2eFBUp35dgts"
      },
      "source": [
        "## Questão 5\n",
        "\n",
        "\n",
        "\n",
        "![](https://drive.google.com/uc?export=view&id=1RguMLFDGstJVjJ0UvbPLFPfo058M6BPu)\n"
      ]
    },
    {
      "cell_type": "code",
      "execution_count": 118,
      "metadata": {
        "id": "C9G3MSu9pQlS"
      },
      "outputs": [],
      "source": [
        "\n",
        "import numpy as np\n",
        "\n",
        "def criarMatriz(N):\n",
        "    matriz = np.zeros((N, N), dtype=int)\n",
        "    for i in range(N):\n",
        "        for j in range(N):\n",
        "            matriz[i][j] = abs(i - j) ** 2\n",
        "    return matriz\n",
        "\n",
        "# def multiplosDe4(matriz):\n",
        "#     multiplos_4 = set()\n",
        "#     for elemento in matriz.flatten():\n",
        "#         if elemento % 4 == 0:\n",
        "#             multiplos_4.add(elemento)\n",
        "#     return sorted(list(multiplos_4))\n",
        "\n",
        "def multiplosDe4(matriz):\n",
        "    multiplos4 = matriz[matriz % 4 == 0]\n",
        "    semRepetir = [*set(multiplos4)]\n",
        "    return semRepetir\n",
        "   \n",
        "\n",
        "# def menorSomaLinha(matriz):\n",
        "#     soma_minima = float('inf')\n",
        "#     linha_minima = -1\n",
        "#     for i, linha in enumerate(matriz):\n",
        "#         soma_atual = sum(linha)\n",
        "#         if soma_atual < soma_minima:\n",
        "#             soma_minima = soma_atual\n",
        "#             linha_minima = i\n",
        "#     return linha_minima, soma_minima\n",
        "\n",
        "def menorSomaLinha(matriz):\n",
        "    somas = matriz.sum(axis=1)\n",
        "   \n",
        "    return somas.argmin(axis=0), min(somas)\n",
        "\n",
        "def maior_valor_por_coluna(matriz):\n",
        "    return [max(coluna) for coluna in matriz.T]\n",
        "\n",
        "N = int(input(\"Digite o valor de N: \"))\n",
        "\n",
        "matriz = criarMatriz(N)\n",
        "\n",
        "multiplos_4 = multiplosDe4(matriz)\n",
        "\n",
        "linha_minima, soma_minima = menorSomaLinha(matriz)\n",
        "\n",
        "maiores_valores_coluna = maior_valor_por_coluna(matriz)\n",
        "\n",
        "with open(\"matrizSaida.txt\", 'w') as arquivo_saida:\n",
        "    arquivo_saida.write(\"Matriz:\\n\")\n",
        "    arquivo_saida.write(np.array_str(matriz) + \"\\n\\n\")\n",
        "    \n",
        "    arquivo_saida.write(f\"Quantidade de múltiplos de 4: {len(multiplos_4)}\\n\")\n",
        "    arquivo_saida.write(f\"Múltiplos de 4: {multiplos_4}\\n\\n\")\n",
        "    \n",
        "    arquivo_saida.write(f\"Linha com menor soma: {linha_minima}, Soma: {soma_minima}\\n\\n\")\n",
        "    \n",
        "    arquivo_saida.write(\"Maior valor coluna a coluna:\\n\")\n",
        "    for i, valor in enumerate(maiores_valores_coluna):\n",
        "        arquivo_saida.write(f\"Coluna {i + 1}: {valor}\\n\")\n"
      ]
    },
    {
      "cell_type": "markdown",
      "metadata": {
        "id": "Ys0PJCquQyZK"
      },
      "source": [
        "## Questão 6\n",
        "\n",
        "\n",
        "\n",
        "![](https://drive.google.com/uc?export=view&id=1tM5iWp51L-4RYwCfoSGPQ-WBuDwdkJbH)\n",
        "\n",
        "\n",
        "\n"
      ]
    },
    {
      "cell_type": "code",
      "execution_count": 90,
      "metadata": {
        "id": "7flM2w6hbv5Q"
      },
      "outputs": [],
      "source": [
        "def ordenaStrings(strings):\n",
        "    return sorted(strings, key=lambda x: (-len(x), strings.index(x)))\n",
        "\n",
        "with open('ordena.txt', 'r') as entrada:\n",
        "    casosTeste = int(entrada.readline().strip())\n",
        "    conjuntoStrings = [entrada.readline().strip() for _ in range(casosTeste)]\n",
        "\n",
        "conjuntoOrdenado = [ordenaStrings(strings.split()) for strings in conjuntoStrings]\n",
        "\n",
        "with open('saidaOrdena.txt', 'w') as saida:\n",
        "    for conjunto in conjuntoOrdenado:\n",
        "        for palavra in conjunto:\n",
        "            saida.write(palavra + ' ')\n",
        "        saida.write('\\n')"
      ]
    },
    {
      "cell_type": "markdown",
      "metadata": {
        "id": "BiolaNDdprGH"
      },
      "source": [
        "## Questão 7\n",
        "\n",
        "\n",
        "![](https://drive.google.com/uc?export=view&id=1DORcWr9DjVjQhu10a2sME2BuvWusjeAt)\n"
      ]
    },
    {
      "cell_type": "code",
      "execution_count": null,
      "metadata": {
        "id": "UDTf8_B1biI_"
      },
      "outputs": [],
      "source": []
    }
  ],
  "metadata": {
    "colab": {
      "provenance": []
    },
    "kernelspec": {
      "display_name": "Python 3",
      "name": "python3"
    },
    "language_info": {
      "codemirror_mode": {
        "name": "ipython",
        "version": 3
      },
      "file_extension": ".py",
      "mimetype": "text/x-python",
      "name": "python",
      "nbconvert_exporter": "python",
      "pygments_lexer": "ipython3",
      "version": "3.11.8"
    }
  },
  "nbformat": 4,
  "nbformat_minor": 0
}
