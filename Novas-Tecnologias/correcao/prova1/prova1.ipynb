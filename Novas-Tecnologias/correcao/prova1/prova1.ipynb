{
 "cells": [
  {
   "cell_type": "code",
   "execution_count": 13,
   "metadata": {},
   "outputs": [
    {
     "name": "stdout",
     "output_type": "stream",
     "text": [
      "130\n",
      "1 nota(s) de R$100,00\n",
      "0 nota(s) de R$50,00\n",
      "1 nota(s) de R$20,00\n",
      "1 nota(s) de R$10,00\n",
      "0 nota(s) de R$2,00\n"
     ]
    }
   ],
   "source": [
    "\n",
    "notas = [100,50,20,10,2]\n",
    "with open(\"cedulas.txt\", 'r') as f:\n",
    "    while True:\n",
    "        valor = int(f.readline())\n",
    "        if valor == -1:\n",
    "            break\n",
    "        print(valor)\n",
    "        for nota in notas:\n",
    "            qtd = valor // nota\n",
    "            valor = valor % nota\n",
    "            print(\"{} nota(s) de R${},00\" .format(qtd, nota))\n",
    "    f.close()"
   ]
  },
  {
   "cell_type": "code",
   "execution_count": 20,
   "metadata": {},
   "outputs": [
    {
     "name": "stdout",
     "output_type": "stream",
     "text": [
      "Todas as listas: [['agua', 'coco', 'mamao', 'mamao', 'coisa'], ['coisa', 'coco', 'mamao', 'credo', 'coisa']]\n",
      "\n",
      "['coisa', 'coco', 'credo', 'agua', 'mamao']\n",
      "Quantidade de elementos distintos: 5\n",
      "Repetições: {'agua': 1, 'coco': 2, 'mamao': 3, 'coisa': 3, 'credo': 1}\n",
      "Elementos presentes em todas as listas: {'coisa', 'coco', 'mamao'}\n"
     ]
    }
   ],
   "source": [
    "listas = []\n",
    "listona = []\n",
    "\n",
    "with open(\"listas.txt\", 'r') as f:\n",
    "    nl = int(f.readline())\n",
    "    for i in range(nl):\n",
    "        l = f.readline().split()\n",
    "        listas.append(l)\n",
    "        listona += l\n",
    "    f.close()\n",
    "unicos = list(set(listona))\n",
    "\n",
    "print(\"Todas as listas: {}\\n\" .format(listas))\n",
    "print(unicos)\n",
    "print(\"Quantidade de elementos distintos: {}\" .format(len(unicos)))\n",
    "\n",
    "dic = {}\n",
    "for palavra in listona:\n",
    "    if palavra in dic:\n",
    "        dic[palavra] += 1\n",
    "    else:\n",
    "        dic[palavra] = 1\n",
    "\n",
    "print(\"Repetições: {}\" .format(dic))\n",
    "\n",
    "resp = set(listas[0])\n",
    "for i in range(1, len(listas)):\n",
    "    resp = resp.intersection(set(listas[i]))\n",
    "\n",
    "print(\"Elementos presentes em todas as listas: {}\" .format(resp))\n",
    "        "
   ]
  },
  {
   "cell_type": "code",
   "execution_count": 25,
   "metadata": {},
   "outputs": [
    {
     "name": "stdout",
     "output_type": "stream",
     "text": [
      "agua de coco\n",
      "{'g': 1, 'd': 1, 'c': 2}\n"
     ]
    }
   ],
   "source": [
    "with open(\"texto.txt\", 'r') as f:\n",
    "    texto = f.readline().lower()\n",
    "    f.close()\n",
    "\n",
    "consoantes = \"bcdfghjklmnpqrstvwxyz\"\n",
    "\n",
    "resp = {}\n",
    "\n",
    "print(texto)\n",
    "for letra in texto:\n",
    "    if letra in consoantes:\n",
    "        if letra in resp:\n",
    "            resp[letra] += 1\n",
    "        else:\n",
    "            resp[letra] = 1\n",
    "\n",
    "print(resp)"
   ]
  },
  {
   "cell_type": "code",
   "execution_count": 43,
   "metadata": {},
   "outputs": [
    {
     "name": "stdout",
     "output_type": "stream",
     "text": [
      "[[    1     1     2     3     5]\n",
      " [    8    13    21    34    55]\n",
      " [   89   144   233   377   610]\n",
      " [  987  1597  2584  4181  6765]\n",
      " [10946 17711 28657 46368 75025]]\n",
      "A soma da diagonal é: 79453\n",
      "A matriz contém 5 multiplos de 5\n",
      "A primeira linha da sua transposta: [    1     8    89   987 10946]\n",
      "A linha com maior números múltiplos de  3 é a 3 com 2 multiplos\n"
     ]
    }
   ],
   "source": [
    "import numpy as np\n",
    "\n",
    "n = int(input())\n",
    "fi = [1,1]\n",
    "for i in range(2, n**2):\n",
    "    fi.append(fi[i-1] + fi[i-2])\n",
    "\n",
    "fibo = np.array(fi).reshape((n,n))\n",
    "# print(fi)\n",
    "print(fibo)\n",
    "\n",
    "soma = 0\n",
    "for i in range(n):\n",
    "    soma += fibo[i,i]\n",
    "print(\"A soma da diagonal é: {}\" .format(soma))\n",
    "\n",
    "mult5 = np.sum(fibo % 5 == 0)\n",
    "print( \"A matriz contém {} multiplos de 5\" .format(mult5))\n",
    "\n",
    "transposta = fibo.T[0,:]\n",
    "print(\"A primeira linha da sua transposta: {}\". format(transposta))\n",
    "\n",
    "conta3 = np.sum(fibo % 3 == 0, axis = 0)\n",
    "\n",
    "contagem = np.max(conta3)\n",
    "posicao = np.argmax(conta3)\n",
    "print(\"A linha com maior números múltiplos de  3 é a {} com {} multiplos\" .format(posicao, contagem))\n",
    "\n",
    "\n",
    "\n"
   ]
  },
  {
   "cell_type": "code",
   "execution_count": 59,
   "metadata": {},
   "outputs": [
    {
     "name": "stdout",
     "output_type": "stream",
     "text": [
      "Cartas descartadas: [1, 3, 5, 4]\n",
      "Cartas remanescentes: [2]\n",
      "Cartas descartadas: [1, 3, 5, 4]\n",
      "Cartas remanescentes: [2]\n",
      "Cartas descartadas: [1, 3, 5, 4]\n",
      "Cartas remanescentes: [2]\n",
      "Cartas descartadas: [1, 3, 5, 4]\n",
      "Cartas remanescentes: [2]\n"
     ]
    }
   ],
   "source": [
    "with open(\"cartas.txt\", 'r') as f:\n",
    "    while True:\n",
    "        valor = int(f.readline())\n",
    "        if valor == 0:\n",
    "            break\n",
    "        # print(valor)\n",
    "        lista = []\n",
    "        for i in range(1, n+1):\n",
    "            lista.append(i)\n",
    "            descarte = []\n",
    "        while len(lista) >= 2:\n",
    "            descarte.append(lista.pop(0))\n",
    "            lista.append(lista.pop(0))\n",
    "        # print(descarte,lista)\n",
    "        print(\"Cartas descartadas: {}\" .format(descarte))\n",
    "        print(\"Cartas remanescentes: {}\" .format(lista))\n",
    "\n",
    "    f.close()\n",
    "            "
   ]
  },
  {
   "cell_type": "code",
   "execution_count": 82,
   "metadata": {},
   "outputs": [
    {
     "name": "stdout",
     "output_type": "stream",
     "text": [
      "10 leds\n",
      "4 leds\n"
     ]
    }
   ],
   "source": [
    "leds = [6,2,5,5,4,5,4,6,3,7,6]\n",
    "\n",
    "with open(\"led.txt\", 'r') as f:\n",
    "    nl = int(f.readline())\n",
    "    for i in range(nl):\n",
    "        num = f.readline()\n",
    "        soma = 0\n",
    "        for i in range(len(num) - 1):\n",
    "            soma += leds[int(num[i])]\n",
    "        print(\"{} leds\" .format(soma))"
   ]
  }
 ],
 "metadata": {
  "kernelspec": {
   "display_name": "Python 3",
   "language": "python",
   "name": "python3"
  },
  "language_info": {
   "codemirror_mode": {
    "name": "ipython",
    "version": 3
   },
   "file_extension": ".py",
   "mimetype": "text/x-python",
   "name": "python",
   "nbconvert_exporter": "python",
   "pygments_lexer": "ipython3",
   "version": "3.11.8"
  }
 },
 "nbformat": 4,
 "nbformat_minor": 2
}
